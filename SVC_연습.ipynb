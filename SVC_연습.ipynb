{
 "cells": [
  {
   "cell_type": "code",
   "execution_count": null,
   "metadata": {},
   "outputs": [],
   "source": []
  },
  {
   "cell_type": "code",
   "execution_count": 3,
   "metadata": {},
   "outputs": [],
   "source": [
    "from mglearn.datasets import make_blobs\n",
    "from sklearn.svm import LinearSVC\n",
    "from mglearn.plots import plot_2d_separator\n",
    "import matplotlib.pyplot as plt\n",
    "import numpy as np"
   ]
  },
  {
   "cell_type": "code",
   "execution_count": 5,
   "metadata": {},
   "outputs": [
    {
     "name": "stderr",
     "output_type": "stream",
     "text": [
      "c:\\python\\venv\\nlp\\lib\\site-packages\\sklearn\\svm\\_base.py:947: ConvergenceWarning: Liblinear failed to converge, increase the number of iterations.\n",
      "  \"the number of iterations.\", ConvergenceWarning)\n"
     ]
    },
    {
     "data": {
      "image/png": "[encoded data removed]",
      "text/plain": [
       "<Figure size 432x288 with 1 Axes>"
      ]
     },
     "metadata": {},
     "output_type": "display_data"
    }
   ],
   "source": [
    "x, y = make_blobs(centers=4, random_state=8)\n",
    "y = y%2\n",
    "\n",
    "linear_svm = LinearSVC().fit(x,y)\n",
    "plot_2d_separator(linear_svm, x, fill = False)\n",
    "marker_set = ['o', '^']\n",
    "for i,m in zip(np.unique(y), marker_set):\n",
    "    plt.scatter(x[y==i][:, 0], x[y==i][:, 1], marker=m,\n",
    "\n",
    "                label='class {}'.format(i), edgecolors='k')\n",
    "\n",
    "plt.legend(bbox_to_anchor=(0.1, 1.1), fancybox=True)\n",
    "\n",
    "plt.xlabel('feature 0', size=15)\n",
    "\n",
    "plt.ylabel('feature 1', size=15)\n",
    "\n",
    "plt.show()"
   ]
  },
  {
   "cell_type": "code",
   "execution_count": 6,
   "metadata": {},
   "outputs": [
    {
     "name": "stdout",
     "output_type": "stream",
     "text": [
      "[[ 8.1062269   4.28695977]\n",
      " [ 9.50169345  1.93824624]\n",
      " [11.563957    1.3389402 ]\n",
      " [10.24028948  2.45544401]\n",
      " [ 7.99815287  4.8525051 ]]\n"
     ]
    },
    {
     "data": {
      "image/png": "[encoded data removed]",
      "text/plain": [
       "<Figure size 432x288 with 1 Axes>"
      ]
     },
     "metadata": {},
     "output_type": "display_data"
    }
   ],
   "source": [
    "from sklearn.svm import SVC\n",
    "\n",
    "from mglearn.tools import make_handcrafted_dataset\n",
    "\n",
    "from mglearn.plots import plot_2d_separator\n",
    "\n",
    "\n",
    "\n",
    "x, y = make_handcrafted_dataset()\n",
    "\n",
    "\n",
    "\n",
    "svm = SVC(kernel='rbf', C=10, gamma=0.1) # kernel, 규제정도, 커널폭의 역수\n",
    "\n",
    "svm.fit(x, y)\n",
    "\n",
    "\n",
    "\n",
    "plot_2d_separator(svm, x, eps=0.5)  # epsilon\n",
    "\n",
    "\n",
    "\n",
    "marker_set = ['o', '^']\n",
    "\n",
    "color_set = ['skyblue', 'orange']\n",
    "\n",
    "class_set = np.unique(y)\n",
    "\n",
    "for i, m, color in zip(class_set, marker_set, color_set):\n",
    "\n",
    "    plt.scatter(x[y==i][:, 0], x[y==i][:, 1], marker=m, \n",
    "\n",
    "label='class {}'.format(i), edgecolors='k', c=color)\n",
    "\n",
    "\n",
    "\n",
    "sv = svm.support_vectors_\n",
    "\n",
    "print('{}'.format(sv))\n",
    "\n",
    "# [[ 8.1062269   4.28695977]\n",
    "\n",
    "#  [ 9.50169345  1.93824624]\n",
    "\n",
    "#  [11.563957    1.3389402 ]\n",
    "\n",
    "#  [10.24028948  2.45544401]\n",
    "\n",
    "#  [ 7.99815287  4.8525051 ]]\n",
    "\n",
    "\n",
    "\n",
    "# dual_coef_의 부호에 의해 서포트 벡터의 클래스 레이블이 결정됩니다.\n",
    "\n",
    "sv_labels = svm.dual_coef_.ravel() > 0 # 중요도가 0보다 높은  것, 클래스 구분\n",
    "\n",
    "idx_set = [~sv_labels, sv_labels]\n",
    "\n",
    "\n",
    "\n",
    "for idx,m, color in zip(idx_set, marker_set, color_set):\n",
    "\n",
    "    plt.scatter(sv[idx][:, 0], sv[idx][:, 1],  s=100, \n",
    "\n",
    "marker=m, edgecolors='k', linewidths=2, c=color)\n",
    "\n",
    "\n",
    "\n",
    "plt.xlabel('feature 0', size=15)\n",
    "\n",
    "plt.ylabel('feature 1', size=15) \n",
    "\n",
    "plt.show() "
   ]
  },
  {
   "cell_type": "code",
   "execution_count": 17,
   "metadata": {},
   "outputs": [
    {
     "name": "stdout",
     "output_type": "stream",
     "text": [
      "0.722\n",
      "0.600\n"
     ]
    }
   ],
   "source": [
    "from sklearn.model_selection import train_test_split\n",
    "from sklearn.datasets import load_wine\n",
    "from sklearn.svm import SVC\n",
    "\n",
    "wine = load_wine()\n",
    "\n",
    "x_train, x_test, y_train, y_test = train_test_split(\n",
    "      wine.data, wine.target, stratify=wine.target,\n",
    "      random_state=0, test_size=0.25)\n",
    "\n",
    "svc = SVC(random_state=0) # default: C=1, kernel='rbf', gamme='auto'\n",
    "svc.fit(x_train, y_train) \n",
    "\n",
    "train_score = svc.score(x_train, y_train)\n",
    "test_score = svc.score(x_test, y_test)\n",
    "\n",
    "print('{:.3f}'.format(train_score))\n",
    "# 1.000\n",
    "\n",
    "print('{:.3f}'.format(test_score))\n",
    "# 0.422"
   ]
  },
  {
   "cell_type": "code",
   "execution_count": 18,
   "metadata": {},
   "outputs": [
    {
     "data": {
      "text/plain": [
       "(133, 13)"
      ]
     },
     "execution_count": 18,
     "metadata": {},
     "output_type": "execute_result"
    }
   ],
   "source": [
    "x_train.shape"
   ]
  },
  {
   "cell_type": "code",
   "execution_count": 10,
   "metadata": {},
   "outputs": [
    {
     "data": {
      "image/png": "[encoded data removed]",
      "text/plain": [
       "<Figure size 432x288 with 1 Axes>"
      ]
     },
     "metadata": {
      "needs_background": "light"
     },
     "output_type": "display_data"
    }
   ],
   "source": [
    "plt.boxplot(x_train) # manage_xticks: x축 눈금 작은 눈금 표시\n",
    "plt.yscale('symlog') # y축 로그 스케일\n",
    "plt.xlabel('feature list', size =15) \n",
    "plt.ylabel('feature size', size =15)\n",
    "plt.show()"
   ]
  },
  {
   "cell_type": "code",
   "execution_count": 13,
   "metadata": {},
   "outputs": [
    {
     "name": "stdout",
     "output_type": "stream",
     "text": [
      "dict_keys(['data', 'target', 'target_names', 'DESCR', 'feature_names', 'filename'])\n",
      "0.955\n",
      "0.951\n"
     ]
    }
   ],
   "source": [
    "from sklearn.svm import SVC\n",
    "from sklearn.datasets import load_breast_cancer\n",
    "from sklearn.model_selection import train_test_split\n",
    "from sklearn.preprocessing import MinMaxScaler\n",
    "\n",
    "cancer = load_breast_cancer()\n",
    "print('{}'.format(cancer.keys()))\n",
    "# dict_keys(['data', 'target', 'target_names', 'DESCR', 'feature_names'])\n",
    "x_train, x_test, y_train, y_test = train_test_split(cancer.data, cancer.target,\n",
    "                                                    stratify=cancer.target, random_state=0)\n",
    "\n",
    "scaler = MinMaxScaler()\n",
    "scaler.fit(x_train)\n",
    "x_train_scaled = scaler.transform(x_train)\n",
    "x_test_scaled = scaler.transform(x_test)\n",
    "\n",
    "svc = SVC(C=1, kernel='rbf', gamma='auto', degree=3)\n",
    "svc.fit(x_train_scaled, y_train)\n",
    "pre_train_score = svc.score(x_train_scaled, y_train)\n",
    "print('{:.3f}'.format(pre_train_score))\n",
    "\n",
    "# 0.955\n",
    "\n",
    "pre_test_score = svc.score(x_test_scaled, y_test)\n",
    "print('{:.3f}'.format(pre_test_score))\n",
    "\n",
    "# 0.951"
   ]
  },
  {
   "cell_type": "code",
   "execution_count": 16,
   "metadata": {},
   "outputs": [
    {
     "data": {
      "text/plain": [
       "(426, 30)"
      ]
     },
     "execution_count": 16,
     "metadata": {},
     "output_type": "execute_result"
    }
   ],
   "source": [
    "x_train.shape"
   ]
  },
  {
   "cell_type": "code",
   "execution_count": null,
   "metadata": {},
   "outputs": [],
   "source": []
  }
 ],
 "metadata": {
  "kernelspec": {
   "display_name": "Python 3",
   "language": "python",
   "name": "python3"
  },
  "language_info": {
   "codemirror_mode": {
    "name": "ipython",
    "version": 3
   },
   "file_extension": ".py",
   "mimetype": "text/x-python",
   "name": "python",
   "nbconvert_exporter": "python",
   "pygments_lexer": "ipython3",
   "version": "3.7.4"
  }
 },
 "nbformat": 4,
 "nbformat_minor": 2
}
