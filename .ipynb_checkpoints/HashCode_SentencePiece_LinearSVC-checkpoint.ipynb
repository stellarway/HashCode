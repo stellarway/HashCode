{
 "cells": [
  {
   "cell_type": "markdown",
   "metadata": {},
   "source": [
    "# 다른 토크나이저 사용해보기"
   ]
  },
  {
   "cell_type": "markdown",
   "metadata": {},
   "source": [
    "1. 문제 파악\n",
    "2. 데이터 탐색  \n",
    "    - 데이터 시각화\n",
    "3. 데이터 전처리 \n",
    "    - 텍스트 데이터 전처리\n",
    "    - 임베딩\n",
    "4. 학습\n",
    "    - 여러 모델 성능 비교\n",
    "    - 모델 적용\n",
    "        - test data 임베딩\n",
    "        - 결과 예측\n",
    "6. 모델 개선\n",
    "    - 모델 확정\n",
    "    - 파라미터 튜닝 (그리드 서치)\n",
    "    - 결과 예측"
   ]
  },
  {
   "cell_type": "markdown",
   "metadata": {},
   "source": [
    "# 1. 문제 파악"
   ]
  },
  {
   "cell_type": "markdown",
   "metadata": {},
   "source": [
    "* Hashcode 사이트의 질문글\n",
    ":개발자들을 위한 무료 QnA 사이트로 한글인 질문과 전공용어인 영어, 코드의 내용들이 섞여 있는 코퍼스\n",
    "   : 이러한 특성 때문에 타 말뭉치와 다른 점이 있다면,  \n",
    "     \n",
    "    (1) 프로그래밍 전공 용어가 들어간다.   \n",
    "        : 딥러닝을 사용할 경우 wiki 백과에 각 언어의 설명이나 각종 documentation으로 코퍼스를 수집, pre-trained 된 모델을 가져와 임베딩을 fine-tunning 시킬 수 있다. 하지만 해당 문제는 데이터 개수가 적은 편이어서 외부 코퍼스가 문제 코퍼스보다 커질 우려가 있다.  \n",
    "        : 분류를 각 (프로그래밍) 언어 별로 하게 되어 있다.\n",
    "            => 언어에 따라, 타 언어와 유사한 토큰이 등장할 수 있다.\n",
    "            ==> 따라서 tf-idf 방식으로 임베딩을 진행한다.\n",
    "    (2) 사용자가 생성하는 것은 정규화된 언어(뉴스 등)가 아니다.\n",
    "        : 오타나 이모티콘(ㅠㅠ, ㅋㅋ, 등)이 있다.\n",
    "        : 전공용어는 영어로 질문은 한글로 적는 등, 두 개의 언어가 혼합되어 있다.\n",
    "    (3) 답을 알려줄만한 노골적인 키워드는 특수문자로 제거되었다. (ex: 파이썬 질문 있어요 -> $$$ 질문 있어요)"
   ]
  },
  {
   "cell_type": "markdown",
   "metadata": {},
   "source": [
    "필요한 모듈 임포드"
   ]
  },
  {
   "cell_type": "code",
   "execution_count": 1,
   "metadata": {},
   "outputs": [],
   "source": [
    "# 데이터 처리에 필요한 모듈 임포트\n",
    "import sentencepiece as spm\n",
    "import pandas as pd\n",
    "import numpy as np\n",
    "import re\n",
    "import matplotlib.pyplot as plt\n",
    "import seaborn as sns\n",
    "\n",
    "# 기계학습에 필요한 모듈 임포드\n",
    "from sklearn.feature_extraction.text import CountVectorizer, TfidfTransformer, TfidfVectorizer\n",
    "from sklearn import metrics\n",
    "from sklearn.model_selection import train_test_split, StratifiedKFold, cross_val_score, GridSearchCV\n",
    "\n",
    "# 멀티 라벨 분류 모델 임포트\n",
    "from sklearn.naive_bayes import MultinomialNB\n",
    "from sklearn.linear_model import LogisticRegression\n",
    "from sklearn.ensemble import RandomForestClassifier\n",
    "from sklearn.svm import LinearSVC"
   ]
  },
  {
   "cell_type": "markdown",
   "metadata": {},
   "source": [
    "데이터 다운로드"
   ]
  },
  {
   "cell_type": "code",
   "execution_count": 2,
   "metadata": {},
   "outputs": [],
   "source": [
    "path = 'C:\\Python\\Ground\\data\\hashcode\\hashcode_classification2020_{}.csv'\n",
    "load = lambda x: pd.read_csv(path.format(x))"
   ]
  },
  {
   "cell_type": "code",
   "execution_count": 3,
   "metadata": {},
   "outputs": [],
   "source": [
    "sample = load('sample')\n",
    "test = load('test')\n",
    "train = load('train')"
   ]
  },
  {
   "cell_type": "code",
   "execution_count": 4,
   "metadata": {},
   "outputs": [],
   "source": [
    "label_dict = {1:'C',2:'C++',3:'java',4:'javascript', 5:'python'}\n",
    "label_names = list(label_dict.values())"
   ]
  },
  {
   "cell_type": "code",
   "execution_count": 7,
   "metadata": {},
   "outputs": [],
   "source": [
    "def pre(text):\n",
    "    # 공백 제거, ㅠㅠ ㅋㅋ 등의 감정 표현 이모티콘 제거, 숫자 제거, 이미지 제거\n",
    "    # 괄호나 :, ; 등의 문자는 각 언어의 특징점이 될 수 있어 그대로 놔둠\n",
    "    stop1 = re.compile(r'[\\t\\r\\n\\v\\f,]+')\n",
    "    stop2 = re.compile(r'[?!#`ㄱ-ㅎㅏ-ㅣ]+|[0-9]+.?[0-9]*|  |(\\.|\\*|~|;|\\| ){2,}|(_|-|=|/|\\||\\+){4,}')\n",
    "    stop3 = re.compile(r'\\[이미지\\]\\[?|\\[\\:|http[a-zA-Z\\.:/\\-\\=]+[(png)|(jpg)|(jpeg)]')\n",
    "\n",
    "    text = re.sub(stop1, ' ', text)\n",
    "    text = re.sub(stop2,'', text)\n",
    "    text = re.sub(stop3,'', text)\n",
    "    return text\n",
    "\n",
    "# 주어진 코퍼스를 각 라벨 별로 분류하여, 전체를 한 문서로 보고 데이터 탐색\n",
    "def make_doc(label_num):\n",
    "    # 5개 라벨을 기준으로 5개의 문서 만들기\n",
    "    total = train[train.label==label_num].title+' '+train[train.label==label_num].content\n",
    "    text = ''\n",
    "    for i in total:\n",
    "        text +=' '+str(i)\n",
    "    text = pre(text)\n",
    "    return text\n",
    "\n",
    "def top_k(label,k):\n",
    "    doc = make_doc(label)\n",
    "    vect = CountVectorizer().fit([doc])\n",
    "    count = vect.transform([doc]).toarray().sum(axis=0)\n",
    "    idx = np.argsort(-count)\n",
    "    count = count[idx]\n",
    "    feature_name = np.array(vect.get_feature_names())[idx]\n",
    "    print(list(zip(feature_name, count))[:k])"
   ]
  },
  {
   "cell_type": "code",
   "execution_count": 8,
   "metadata": {},
   "outputs": [],
   "source": [
    "d1 = make_doc(1)"
   ]
  },
  {
   "cell_type": "code",
   "execution_count": 12,
   "metadata": {},
   "outputs": [
    {
     "data": {
      "text/plain": [
       "True"
      ]
     },
     "execution_count": 12,
     "metadata": {},
     "output_type": "execute_result"
    }
   ],
   "source": [
    "spm.SentencePieceTrainer.Train('--input=C:\\Python\\Ground\\data\\hashcode\\hashcode_classification2020_train.csv --model_prefix=m --vocab_size=1000')"
   ]
  },
  {
   "cell_type": "code",
   "execution_count": 13,
   "metadata": {
    "scrolled": true
   },
   "outputs": [
    {
     "data": {
      "text/plain": [
       "True"
      ]
     },
     "execution_count": 13,
     "metadata": {},
     "output_type": "execute_result"
    }
   ],
   "source": [
    "sp = spm.SentencePieceProcessor()\n",
    "sp.Load(\"m.model\")"
   ]
  },
  {
   "cell_type": "code",
   "execution_count": 19,
   "metadata": {
    "scrolled": true
   },
   "outputs": [
    {
     "data": {
      "text/plain": [
       "['▁$$$',\n",
       " '▁',\n",
       " '순',\n",
       " '서',\n",
       " '정',\n",
       " '리',\n",
       " '▁',\n",
       " '오',\n",
       " '류',\n",
       " '▁',\n",
       " '질',\n",
       " '문',\n",
       " '▁//',\n",
       " '▁$$$',\n",
       " '▁',\n",
       " 'in',\n",
       " 'c',\n",
       " 'l',\n",
       " 'u',\n",
       " 'de',\n",
       " '▁<',\n",
       " 'st',\n",
       " 'd',\n",
       " 'i',\n",
       " 'o',\n",
       " '.',\n",
       " 'h',\n",
       " '>',\n",
       " '▁',\n",
       " 'in',\n",
       " 'c',\n",
       " 'l',\n",
       " 'u',\n",
       " 'de',\n",
       " '▁<',\n",
       " 'st',\n",
       " 'd',\n",
       " 'li',\n",
       " 'b',\n",
       " '.',\n",
       " 'h',\n",
       " '>',\n",
       " '▁',\n",
       " 'in',\n",
       " 'c',\n",
       " 'l',\n",
       " 'u',\n",
       " 'de',\n",
       " '▁<',\n",
       " 't',\n",
       " 'i',\n",
       " 'me',\n",
       " '.',\n",
       " 'h',\n",
       " '>',\n",
       " '▁int',\n",
       " '▁',\n",
       " 'm',\n",
       " 'a',\n",
       " 'in',\n",
       " '()',\n",
       " '▁{',\n",
       " '▁int',\n",
       " '▁',\n",
       " 'A',\n",
       " 'r',\n",
       " 'r',\n",
       " 'R',\n",
       " 'o']"
      ]
     },
     "execution_count": 19,
     "metadata": {},
     "output_type": "execute_result"
    }
   ],
   "source": [
    "sp.EncodeAsPieces(d1[:100])"
   ]
  },
  {
   "cell_type": "markdown",
   "metadata": {},
   "source": [
    "유의미한 토크나이징이 되지 않는다. BPE 방식을 학습하기에는 작은 사이즈의 코퍼스가 아닌가 싶다.  \n",
    "기존에 학습되어 있는 vocab을 불러와 보자"
   ]
  },
  {
   "cell_type": "code",
   "execution_count": 24,
   "metadata": {},
   "outputs": [
    {
     "data": {
      "text/plain": [
       "True"
      ]
     },
     "execution_count": 24,
     "metadata": {},
     "output_type": "execute_result"
    }
   ],
   "source": [
    "spm.SentencePieceTrainer.Train('--input=C:\\Python\\Ground\\data\\hashcode\\hashcode_classification2020_train.csv --model_prefix=mbpe --vocab_size=1000 --model_type=bpe')"
   ]
  },
  {
   "cell_type": "code",
   "execution_count": 25,
   "metadata": {},
   "outputs": [
    {
     "data": {
      "text/plain": [
       "True"
      ]
     },
     "execution_count": 25,
     "metadata": {},
     "output_type": "execute_result"
    }
   ],
   "source": [
    "sp.Load(\"mbpe.model\")"
   ]
  },
  {
   "cell_type": "code",
   "execution_count": 26,
   "metadata": {
    "scrolled": false
   },
   "outputs": [
    {
     "data": {
      "text/plain": [
       "['▁$$$',\n",
       " '▁',\n",
       " '순',\n",
       " '서',\n",
       " '정',\n",
       " '리',\n",
       " '▁',\n",
       " '오',\n",
       " '류',\n",
       " '▁',\n",
       " '질',\n",
       " '문',\n",
       " '▁//',\n",
       " '▁$$$',\n",
       " '▁',\n",
       " 'in',\n",
       " 'c',\n",
       " 'l',\n",
       " 'u',\n",
       " 'de',\n",
       " '▁<',\n",
       " 'st',\n",
       " 'd',\n",
       " 'i',\n",
       " 'o',\n",
       " '.',\n",
       " 'h',\n",
       " '>',\n",
       " '▁',\n",
       " 'in',\n",
       " 'c',\n",
       " 'l',\n",
       " 'u',\n",
       " 'de',\n",
       " '▁<',\n",
       " 'st',\n",
       " 'd',\n",
       " 'li',\n",
       " 'b',\n",
       " '.',\n",
       " 'h',\n",
       " '>',\n",
       " '▁',\n",
       " 'in',\n",
       " 'c',\n",
       " 'l',\n",
       " 'u',\n",
       " 'de',\n",
       " '▁<',\n",
       " 't',\n",
       " 'i',\n",
       " 'me',\n",
       " '.',\n",
       " 'h',\n",
       " '>',\n",
       " '▁int',\n",
       " '▁',\n",
       " 'ma',\n",
       " 'in',\n",
       " '()',\n",
       " '▁{',\n",
       " '▁int',\n",
       " '▁',\n",
       " 'A',\n",
       " 'r',\n",
       " 'r',\n",
       " 'R',\n",
       " 'o']"
      ]
     },
     "execution_count": 26,
     "metadata": {},
     "output_type": "execute_result"
    }
   ],
   "source": [
    "sp.EncodeAsPieces(d1[:100])"
   ]
  },
  {
   "cell_type": "code",
   "execution_count": 27,
   "metadata": {
    "scrolled": true
   },
   "outputs": [
    {
     "data": {
      "text/plain": [
       "True"
      ]
     },
     "execution_count": 27,
     "metadata": {},
     "output_type": "execute_result"
    }
   ],
   "source": [
    "spm.SentencePieceTrainer.Train('--input=C:\\Python\\Ground\\data\\hashcode\\hashcode_classification2020_train.csv --model_prefix=word --vocab_size=1000 --model_type=word')"
   ]
  },
  {
   "cell_type": "code",
   "execution_count": 28,
   "metadata": {},
   "outputs": [
    {
     "data": {
      "text/plain": [
       "True"
      ]
     },
     "execution_count": 28,
     "metadata": {},
     "output_type": "execute_result"
    }
   ],
   "source": [
    "sp.Load(\"word.model\")"
   ]
  },
  {
   "cell_type": "code",
   "execution_count": 29,
   "metadata": {
    "scrolled": false
   },
   "outputs": [
    {
     "data": {
      "text/plain": [
       "['▁$$$',\n",
       " '▁순서정리',\n",
       " '▁오류',\n",
       " '▁질문',\n",
       " '▁//',\n",
       " '▁$$$',\n",
       " '▁include',\n",
       " '▁<stdio.h>',\n",
       " '▁include',\n",
       " '▁<stdlib.h>',\n",
       " '▁include▁<time.h>',\n",
       " '▁int',\n",
       " '▁main()',\n",
       " '▁{',\n",
       " '▁int',\n",
       " '▁ArrRo']"
      ]
     },
     "execution_count": 29,
     "metadata": {},
     "output_type": "execute_result"
    }
   ],
   "source": [
    "sp.EncodeAsPieces(d1[:100])"
   ]
  },
  {
   "cell_type": "markdown",
   "metadata": {},
   "source": [
    "조금 낫군.."
   ]
  },
  {
   "cell_type": "code",
   "execution_count": 30,
   "metadata": {},
   "outputs": [],
   "source": [
    "doc1, doc2, doc3, doc4, doc5 = make_doc(1), make_doc(2), make_doc(3), make_doc(4), make_doc(5)"
   ]
  },
  {
   "cell_type": "code",
   "execution_count": 17,
   "metadata": {},
   "outputs": [],
   "source": [
    "# 문서 토큰화를 미리 진행해보고, '질문글'의 특성 상 나타날 수 밖에 없는 토큰들을 stop_words로 추가한다.\n",
    "stoplist = ['은','는','이','가','을','를','안','못','의','에서','에는','에서는',\n",
    "            '로','으로','만','그','같이','다','라는','게','라고',\n",
    "            '왜','이런','저런','문제','질문',\n",
    "            '와','과','또는','도',\n",
    "            '죠',\n",
    "            '되다','되어다',\n",
    "            '경우',\n",
    "            '이렇게', '이렇다', '오다', '가다','늘다',\n",
    "            '아래','다음',\n",
    "            '코드','변수','발생','에러','오류','뜨다',\n",
    "            '해보다','해주다',\n",
    "            '이다','있다','않다','없다','아니다','싶다','하다','어떻다','모르다',\n",
    "            '궁금하다','도움','필요하다','부탁드리다','안녕하다','감사하다',\n",
    "            '예','들다'\n",
    "            ]"
   ]
  },
  {
   "cell_type": "code",
   "execution_count": 32,
   "metadata": {},
   "outputs": [],
   "source": [
    "tokenizer = lambda x:sp.EncodeAsPieces(x)"
   ]
  },
  {
   "cell_type": "code",
   "execution_count": 33,
   "metadata": {},
   "outputs": [
    {
     "data": {
      "text/plain": [
       "(5, 617418)"
      ]
     },
     "execution_count": 33,
     "metadata": {},
     "output_type": "execute_result"
    }
   ],
   "source": [
    "tfidf_corpus = [doc1, doc2, doc3, doc4, doc5]\n",
    "tfidf_vectorizer = TfidfVectorizer(\n",
    "    # 너무 희소한 데이터는 그 질문에서만 쓰이는 데이터나 변수명이 될 수 있어 제거\n",
    "    min_df = 0.05, \n",
    "    # 괄호나 기호 등이 코드에서 자주 쓰이고, 이것이 언어의 특징점이 될 수 있어 n-gram 설정\n",
    "    ngram_range=(1,5),\n",
    "    # 소문자/대문자를 구별하는 언어가 있기 때문에 소문자화는 진행하지 않는다.\n",
    "    lowercase=False,\n",
    "    # '질문글'이라면 흔히 나타날만한 토큰들 (ex. '모르다', '궁금하다')을 stopwords로 추가한다.\n",
    "#     stop_words=stoplist,\n",
    "    # 코퍼스가 많지 않기 때문에 희소벡터의 수를 줄이기 위해 stemming 실행\n",
    "    tokenizer=tokenizer)\n",
    "\n",
    "tfidf = tfidf_vectorizer.fit_transform(tfidf_corpus)\n",
    "tfidf.shape"
   ]
  },
  {
   "cell_type": "markdown",
   "metadata": {},
   "source": [
    "밀집벡터로 임베딩 후 각 문서 간 유사도 확인"
   ]
  },
  {
   "cell_type": "code",
   "execution_count": 34,
   "metadata": {
    "scrolled": true
   },
   "outputs": [
    {
     "data": {
      "image/png": "[encoded data removed]",
      "text/plain": [
       "<Figure size 432x288 with 2 Axes>"
      ]
     },
     "metadata": {
      "needs_background": "light"
     },
     "output_type": "display_data"
    }
   ],
   "source": [
    "sim = tfidf*tfidf.T\n",
    "label_names = list(label_dict.values())\n",
    "sim_df = pd.DataFrame(sim.todense(), columns = label_names, index = label_names)\n",
    "sns.heatmap(sim_df, annot = True, cmap='Blues')\n",
    "plt.show()"
   ]
  },
  {
   "cell_type": "markdown",
   "metadata": {},
   "source": [
    "### 3-(2) 임베딩"
   ]
  },
  {
   "cell_type": "code",
   "execution_count": 35,
   "metadata": {},
   "outputs": [],
   "source": [
    "title = pd.Series(map(lambda x: pre(str(x)), train.title))\n",
    "content = pd.Series(map(lambda x: pre(str(x)), train.content))\n",
    "data = title+content"
   ]
  },
  {
   "cell_type": "code",
   "execution_count": 37,
   "metadata": {},
   "outputs": [
    {
     "data": {
      "text/plain": [
       "(2592, 7155)"
      ]
     },
     "execution_count": 37,
     "metadata": {},
     "output_type": "execute_result"
    }
   ],
   "source": [
    "# 각 문서 간 (언어 간) 유사도가 상당히 높은 편이다. 따라서 tfidf로 임베딩 할 때 max_df 인자를 추가시킨다.\n",
    "fixed_vectorizer = TfidfVectorizer(\n",
    "    sublinear_tf=True,\n",
    "    min_df=3,\n",
    "    max_df=0.8,\n",
    "    ngram_range=(1,5),\n",
    "    lowercase=False,\n",
    "#     stop_words=stoplist,\n",
    "    tokenizer=tokenizer)\n",
    "\n",
    "fixed_tfidf = fixed_vectorizer.fit_transform(data)\n",
    "fixed_tfidf.shape"
   ]
  },
  {
   "cell_type": "code",
   "execution_count": 38,
   "metadata": {},
   "outputs": [],
   "source": [
    "features = fixed_tfidf.toarray()\n",
    "labels = train.label"
   ]
  },
  {
   "cell_type": "code",
   "execution_count": 39,
   "metadata": {},
   "outputs": [
    {
     "data": {
      "text/plain": [
       "((2592, 7155), (2592,))"
      ]
     },
     "execution_count": 39,
     "metadata": {},
     "output_type": "execute_result"
    }
   ],
   "source": [
    "features.shape, labels.shape"
   ]
  },
  {
   "cell_type": "markdown",
   "metadata": {},
   "source": [
    "# 4. 학습"
   ]
  },
  {
   "cell_type": "markdown",
   "metadata": {},
   "source": [
    "### 4-(1) 여러 모델 성능 비교"
   ]
  },
  {
   "cell_type": "code",
   "execution_count": 40,
   "metadata": {
    "scrolled": true
   },
   "outputs": [],
   "source": [
    "x_train, x_test, y_train, y_test = train_test_split(\n",
    "      data, train.label, stratify=train.label, # data는 텍스트 전처리가 끝나있는 상태\n",
    "      random_state=0, test_size=0.25)"
   ]
  },
  {
   "cell_type": "code",
   "execution_count": 41,
   "metadata": {},
   "outputs": [
    {
     "data": {
      "text/plain": [
       "Pipeline(memory=None,\n",
       "         steps=[('vect',\n",
       "                 CountVectorizer(analyzer='word', binary=False,\n",
       "                                 decode_error='strict',\n",
       "                                 dtype=<class 'numpy.int64'>, encoding='utf-8',\n",
       "                                 input='content', lowercase=True, max_df=1.0,\n",
       "                                 max_features=None, min_df=1,\n",
       "                                 ngram_range=(1, 1), preprocessor=None,\n",
       "                                 stop_words=None, strip_accents=None,\n",
       "                                 token_pattern='(?u)\\\\b\\\\w\\\\w+\\\\b',\n",
       "                                 tokenizer=None, vocabulary=None)),\n",
       "                ('tfidf',\n",
       "                 TfidfTransformer(norm='l2', smooth_idf=True,\n",
       "                                  sublinear_tf=False, use_idf=True)),\n",
       "                ('clf',\n",
       "                 SVC(C=1.0, break_ties=False, cache_size=200, class_weight=None,\n",
       "                     coef0=0.0, decision_function_shape='ovr', degree=3,\n",
       "                     gamma='scale', kernel='rbf', max_iter=-1,\n",
       "                     probability=False, random_state=None, shrinking=True,\n",
       "                     tol=0.001, verbose=False))],\n",
       "         verbose=False)"
      ]
     },
     "execution_count": 41,
     "metadata": {},
     "output_type": "execute_result"
    }
   ],
   "source": [
    "from sklearn.svm import SVC\n",
    "from sklearn.pipeline import Pipeline\n",
    "\n",
    "# 빠른 테스트를 위해 세부적인 파라미터는 일단 무시\n",
    "_pipe = Pipeline([\n",
    "    ('vect', CountVectorizer()),\n",
    "    ('tfidf', TfidfTransformer()),\n",
    "    ('clf',SVC())\n",
    "])\n",
    "_pipe.fit(x_train, y_train)"
   ]
  },
  {
   "cell_type": "code",
   "execution_count": 42,
   "metadata": {},
   "outputs": [],
   "source": [
    "pipe_train_score = _pipe.score(x_train, y_train)\n",
    "pipe_test_score = _pipe.score(x_test, y_test)"
   ]
  },
  {
   "cell_type": "code",
   "execution_count": 43,
   "metadata": {
    "scrolled": true
   },
   "outputs": [
    {
     "data": {
      "text/plain": [
       "(0.9984567901234568, 0.7222222222222222)"
      ]
     },
     "execution_count": 43,
     "metadata": {},
     "output_type": "execute_result"
    }
   ],
   "source": [
    "pipe_train_score, pipe_test_score"
   ]
  },
  {
   "cell_type": "code",
   "execution_count": 44,
   "metadata": {},
   "outputs": [],
   "source": [
    "parameters = {'clf__kernel':['linear','rbf','poly']}"
   ]
  },
  {
   "cell_type": "code",
   "execution_count": 36,
   "metadata": {},
   "outputs": [],
   "source": [
    "grid = GridSearchCV(_pipe, parameters, cv=5, n_jobs=-1)"
   ]
  },
  {
   "cell_type": "code",
   "execution_count": 37,
   "metadata": {},
   "outputs": [
    {
     "data": {
      "text/plain": [
       "GridSearchCV(cv=5, error_score=nan,\n",
       "             estimator=Pipeline(memory=None,\n",
       "                                steps=[('vect',\n",
       "                                        CountVectorizer(analyzer='word',\n",
       "                                                        binary=False,\n",
       "                                                        decode_error='strict',\n",
       "                                                        dtype=<class 'numpy.int64'>,\n",
       "                                                        encoding='utf-8',\n",
       "                                                        input='content',\n",
       "                                                        lowercase=True,\n",
       "                                                        max_df=1.0,\n",
       "                                                        max_features=None,\n",
       "                                                        min_df=1,\n",
       "                                                        ngram_range=(1, 1),\n",
       "                                                        preprocessor=None,\n",
       "                                                        stop_words=None,\n",
       "                                                        strip_accents=None,\n",
       "                                                        token_pattern='(?u)...\n",
       "                                            cache_size=200, class_weight=None,\n",
       "                                            coef0=0.0,\n",
       "                                            decision_function_shape='ovr',\n",
       "                                            degree=3, gamma='scale',\n",
       "                                            kernel='rbf', max_iter=-1,\n",
       "                                            probability=False,\n",
       "                                            random_state=None, shrinking=True,\n",
       "                                            tol=0.001, verbose=False))],\n",
       "                                verbose=False),\n",
       "             iid='deprecated', n_jobs=-1,\n",
       "             param_grid={'clf__kernel': ['linear', 'rbf', 'poly']},\n",
       "             pre_dispatch='2*n_jobs', refit=True, return_train_score=False,\n",
       "             scoring=None, verbose=0)"
      ]
     },
     "execution_count": 37,
     "metadata": {},
     "output_type": "execute_result"
    }
   ],
   "source": [
    "grid.fit(x_train, y_train)"
   ]
  },
  {
   "cell_type": "code",
   "execution_count": 38,
   "metadata": {},
   "outputs": [
    {
     "name": "stdout",
     "output_type": "stream",
     "text": [
      "optimal parameter is {'clf__kernel': 'linear'}\n",
      "best CV score is 0.747\n",
      "best test score is 0.799\n"
     ]
    }
   ],
   "source": [
    "print('optimal parameter is {}'.format(grid.best_params_))\n",
    "print('best CV score is {:.3f}'.format(grid.best_score_))\n",
    "print('best test score is {:.3f}'.format(grid.score(x_test, y_test)))"
   ]
  },
  {
   "cell_type": "code",
   "execution_count": 45,
   "metadata": {},
   "outputs": [],
   "source": [
    "def get_score(pipe):\n",
    "    pipe.fit(x_train, y_train)\n",
    "    pipe_train_score = pipe.score(x_train, y_train)\n",
    "    pipe_test_score = pipe.score(x_test, y_test)\n",
    "    print('train score is {:.4f}'.format(pipe_train_score))\n",
    "    print('test score is {:.4f}'.format(pipe_test_score))"
   ]
  },
  {
   "cell_type": "code",
   "execution_count": 41,
   "metadata": {},
   "outputs": [
    {
     "name": "stdout",
     "output_type": "stream",
     "text": [
      "train score is 0.9943\n",
      "test score is 0.7994\n"
     ]
    }
   ],
   "source": [
    "pipe = Pipeline([\n",
    "    ('vect', CountVectorizer()),\n",
    "    ('tfidf', TfidfTransformer()),\n",
    "    ('clf',SVC(kernel='linear'))\n",
    "])\n",
    "get_score(pipe)"
   ]
  },
  {
   "cell_type": "code",
   "execution_count": 42,
   "metadata": {},
   "outputs": [
    {
     "name": "stdout",
     "output_type": "stream",
     "text": [
      "train score is 1.0000\n",
      "test score is 0.8025\n"
     ]
    }
   ],
   "source": [
    "pipe = Pipeline([\n",
    "    ('vect', CountVectorizer()),\n",
    "    ('tfidf', TfidfTransformer()),\n",
    "    ('clf',LinearSVC())\n",
    "])\n",
    "get_score(pipe)"
   ]
  },
  {
   "cell_type": "markdown",
   "metadata": {},
   "source": [
    "위의 결과를 통해 linearSVC()를 사용해도 무방하다는 사실을 확인할 수 있다.  \n",
    "(엄밀히 따지면 SVC(kernel='linear)와 LinearSVC()는 그 결과값이 약간은 다르지만,  \n",
    "LinearSVC()가 조금 더 빠르고 값이 잘 나온다.)"
   ]
  },
  {
   "cell_type": "markdown",
   "metadata": {},
   "source": [
    "모델을 LinearSVC()로 확정하고, 다음 파라미터 튜닝을 진행한다."
   ]
  },
  {
   "cell_type": "markdown",
   "metadata": {},
   "source": [
    "### 5-(2) 그리드서치"
   ]
  },
  {
   "cell_type": "code",
   "execution_count": 46,
   "metadata": {},
   "outputs": [
    {
     "name": "stdout",
     "output_type": "stream",
     "text": [
      "train score is 1.0000\n",
      "test score is 0.7485\n"
     ]
    }
   ],
   "source": [
    "pipe = Pipeline([\n",
    "    ('vect', CountVectorizer(tokenizer=tokenizer)),\n",
    "    ('tfidf', TfidfTransformer()),\n",
    "    ('clf',LinearSVC())\n",
    "])\n",
    "get_score(pipe)"
   ]
  },
  {
   "cell_type": "markdown",
   "metadata": {},
   "source": [
    "토크나이저를 사용하면 score가 올라가긴 하지만 연산이 너무 오래 걸린다. 토크나이저를 따로 추가하는 것은 다른 파라미터 튜닝 후, 마지막 단계에서 수행한다."
   ]
  },
  {
   "cell_type": "code",
   "execution_count": 47,
   "metadata": {
    "scrolled": true
   },
   "outputs": [
    {
     "name": "stdout",
     "output_type": "stream",
     "text": [
      "train score is 1.0000\n",
      "test score is 0.7701\n"
     ]
    }
   ],
   "source": [
    "pipe = Pipeline([\n",
    "    ('vect', CountVectorizer(\n",
    "        min_df=1, max_df=0.3,\n",
    "        ngram_range=(1,2),\n",
    "        lowercase=False,\n",
    "#         stop_words=stoplist,\n",
    "        tokenizer=tokenizer\n",
    "    )),\n",
    "    ('tfidf', TfidfTransformer(\n",
    "        smooth_idf=False,\n",
    "        sublinear_tf=True)),\n",
    "    ('clf',LinearSVC(C=5, random_state=0))\n",
    "])\n",
    "get_score(pipe)"
   ]
  },
  {
   "cell_type": "code",
   "execution_count": 48,
   "metadata": {
    "scrolled": true
   },
   "outputs": [
    {
     "name": "stdout",
     "output_type": "stream",
     "text": [
      "train score is 1.0000\n",
      "test score is 0.7623\n"
     ]
    }
   ],
   "source": [
    "pipe = Pipeline([\n",
    "    ('vect', CountVectorizer(\n",
    "        min_df=1, max_df=0.3,\n",
    "        ngram_range=(1,3),\n",
    "        lowercase=False,\n",
    "#         stop_words=stoplist,\n",
    "        tokenizer=tokenizer\n",
    "    )),\n",
    "    ('tfidf', TfidfTransformer(\n",
    "        smooth_idf=False,\n",
    "        sublinear_tf=True)),\n",
    "    ('clf',LinearSVC(C=5, random_state=0))\n",
    "])\n",
    "get_score(pipe)"
   ]
  },
  {
   "cell_type": "code",
   "execution_count": 49,
   "metadata": {
    "scrolled": true
   },
   "outputs": [
    {
     "name": "stdout",
     "output_type": "stream",
     "text": [
      "train score is 1.0000\n",
      "test score is 0.7577\n"
     ]
    }
   ],
   "source": [
    "pipe = Pipeline([\n",
    "    ('vect', CountVectorizer(\n",
    "        min_df=1, max_df=0.3,\n",
    "        ngram_range=(1,5),\n",
    "        lowercase=False,\n",
    "#         stop_words=stoplist,\n",
    "        tokenizer=tokenizer\n",
    "    )),\n",
    "    ('tfidf', TfidfTransformer(\n",
    "        smooth_idf=False,\n",
    "        sublinear_tf=True)),\n",
    "    ('clf',LinearSVC(C=5, random_state=0))\n",
    "])\n",
    "get_score(pipe)"
   ]
  },
  {
   "cell_type": "markdown",
   "metadata": {},
   "source": [
    "### 5-(3) 최종 모델 선택 후 결과 예측"
   ]
  },
  {
   "cell_type": "code",
   "execution_count": 52,
   "metadata": {},
   "outputs": [],
   "source": [
    "# 문서 토큰화를 미리 진행해보고, '질문글'의 특성 상 나타날 수 밖에 없는 토큰들을 stop_words로 추가한다.\n",
    "stoplist = ['▁가', '▁가다', '▁감사', '▁감사하다', '▁같이', '▁게', '▁경우', '▁과', '▁궁금', '▁궁금하다', '▁그', '▁는', '▁늘', '▁늘다', '▁다', '▁다음', '▁도', '▁도움', '▁되', '▁되다', '▁되어다', '▁드리', '▁들', '▁들다', '▁또는', '▁뜨', '▁뜨다', '▁라고', '▁라는', '▁로', '▁를', '▁만', '▁모르', '▁모르다', '▁못', '▁문제', '▁발생', '▁변수', '▁보', '▁보다', '▁부탁', '▁부탁드리다', '▁싶', '▁싶다', '▁아니', '▁아니다', '▁아래', '▁안', '▁안녕', '▁안녕하다', '▁않', '▁않다', '▁어', '▁어다', '▁어떻', '▁어떻다', '▁없', '▁없다', '▁에', '▁에는', '▁에러', '▁에서', '▁에서는', '▁예', '▁오다', '▁오류', '▁와', '▁왜', '▁으로', '▁은', '▁을', '▁의', '▁이', '▁이다', '▁이런', '▁이렇', '▁이렇게', '▁이렇다', '▁있', '▁있다', '▁저런', '▁죠', '▁주', '▁질문', '▁코드', '▁필요', '▁필요하다', '▁하', '▁하다', '▁해', '▁해보다', '▁해주다']"
   ]
  },
  {
   "cell_type": "code",
   "execution_count": 53,
   "metadata": {
    "scrolled": false
   },
   "outputs": [
    {
     "name": "stdout",
     "output_type": "stream",
     "text": [
      "train score is 1.0000\n",
      "test score is 0.7608\n"
     ]
    },
    {
     "data": {
      "text/plain": [
       "Pipeline(memory=None,\n",
       "         steps=[('vect',\n",
       "                 CountVectorizer(analyzer='word', binary=False,\n",
       "                                 decode_error='strict',\n",
       "                                 dtype=<class 'numpy.int64'>, encoding='utf-8',\n",
       "                                 input='content', lowercase=False, max_df=0.3,\n",
       "                                 max_features=None, min_df=1,\n",
       "                                 ngram_range=(1, 2), preprocessor=None,\n",
       "                                 stop_words=['▁가', '▁가다', '▁감사', '▁감사하다', '▁같이',\n",
       "                                             '▁게', '▁경우', '▁과', '▁궁금', '▁궁금하다',\n",
       "                                             '▁그', '▁는', '▁늘', '▁늘다', '▁다...\n",
       "                                 tokenizer=<function <lambda> at 0x0000025AC506EF78>,\n",
       "                                 vocabulary=None)),\n",
       "                ('tfidf',\n",
       "                 TfidfTransformer(norm='l2', smooth_idf=False,\n",
       "                                  sublinear_tf=True, use_idf=True)),\n",
       "                ('clf',\n",
       "                 LinearSVC(C=5, class_weight=None, dual=True,\n",
       "                           fit_intercept=True, intercept_scaling=1,\n",
       "                           loss='squared_hinge', max_iter=1000,\n",
       "                           multi_class='ovr', penalty='l2', random_state=None,\n",
       "                           tol=0.0001, verbose=0))],\n",
       "         verbose=False)"
      ]
     },
     "execution_count": 53,
     "metadata": {},
     "output_type": "execute_result"
    }
   ],
   "source": [
    "pipe = Pipeline([\n",
    "    ('vect', CountVectorizer(\n",
    "        min_df=1, max_df=0.3,\n",
    "        ngram_range=(1,2),\n",
    "        lowercase=False,\n",
    "        stop_words=stoplist,\n",
    "        tokenizer=tokenizer\n",
    "    )),\n",
    "    ('tfidf', TfidfTransformer(\n",
    "        smooth_idf=False,\n",
    "        sublinear_tf=True)),\n",
    "    ('clf',LinearSVC(C=5))\n",
    "])\n",
    "get_score(pipe)\n",
    "\n",
    "pipe.fit(x_train, y_train)"
   ]
  },
  {
   "cell_type": "markdown",
   "metadata": {},
   "source": [
    "word 단위로 sentencepiece 토크나이징 할 경우 끔찍한 결과가 나온다... 왜일까? 코퍼스가 너무 적은 탓일까? vocab_size가 너무 작았을까? vocab_size를 열배 증가시켜 다시 해보자."
   ]
  },
  {
   "cell_type": "code",
   "execution_count": 55,
   "metadata": {
    "scrolled": true
   },
   "outputs": [
    {
     "data": {
      "text/plain": [
       "True"
      ]
     },
     "execution_count": 55,
     "metadata": {},
     "output_type": "execute_result"
    }
   ],
   "source": [
    "spm.SentencePieceTrainer.Train('--input=C:\\Python\\Ground\\data\\hashcode\\hashcode_classification2020_train.csv --model_prefix=word2 --vocab_size=10000 --model_type=word')"
   ]
  },
  {
   "cell_type": "code",
   "execution_count": 56,
   "metadata": {},
   "outputs": [
    {
     "data": {
      "text/plain": [
       "True"
      ]
     },
     "execution_count": 56,
     "metadata": {},
     "output_type": "execute_result"
    }
   ],
   "source": [
    "sp.Load(\"word2.model\")"
   ]
  },
  {
   "cell_type": "code",
   "execution_count": 57,
   "metadata": {
    "scrolled": false
   },
   "outputs": [
    {
     "data": {
      "text/plain": [
       "['▁$$$',\n",
       " '▁순서정리',\n",
       " '▁오류',\n",
       " '▁질문',\n",
       " '▁//',\n",
       " '▁$$$',\n",
       " '▁include',\n",
       " '▁<stdio.h>',\n",
       " '▁include',\n",
       " '▁<stdlib.h>',\n",
       " '▁include',\n",
       " '▁<time.h>',\n",
       " '▁int',\n",
       " '▁main()',\n",
       " '▁{',\n",
       " '▁int',\n",
       " '▁ArrRo']"
      ]
     },
     "execution_count": 57,
     "metadata": {},
     "output_type": "execute_result"
    }
   ],
   "source": [
    "sp.EncodeAsPieces(d1[:100])"
   ]
  },
  {
   "cell_type": "code",
   "execution_count": 58,
   "metadata": {},
   "outputs": [],
   "source": [
    "tokenizer = lambda x:sp.EncodeAsPieces(x)"
   ]
  },
  {
   "cell_type": "code",
   "execution_count": 59,
   "metadata": {
    "scrolled": true
   },
   "outputs": [
    {
     "name": "stdout",
     "output_type": "stream",
     "text": [
      "train score is 1.0000\n",
      "test score is 0.7840\n"
     ]
    },
    {
     "data": {
      "text/plain": [
       "Pipeline(memory=None,\n",
       "         steps=[('vect',\n",
       "                 CountVectorizer(analyzer='word', binary=False,\n",
       "                                 decode_error='strict',\n",
       "                                 dtype=<class 'numpy.int64'>, encoding='utf-8',\n",
       "                                 input='content', lowercase=False, max_df=0.3,\n",
       "                                 max_features=None, min_df=1,\n",
       "                                 ngram_range=(1, 2), preprocessor=None,\n",
       "                                 stop_words=['▁가', '▁가다', '▁감사', '▁감사하다', '▁같이',\n",
       "                                             '▁게', '▁경우', '▁과', '▁궁금', '▁궁금하다',\n",
       "                                             '▁그', '▁는', '▁늘', '▁늘다', '▁다...\n",
       "                                 tokenizer=<function <lambda> at 0x0000025AD3390CA8>,\n",
       "                                 vocabulary=None)),\n",
       "                ('tfidf',\n",
       "                 TfidfTransformer(norm='l2', smooth_idf=False,\n",
       "                                  sublinear_tf=True, use_idf=True)),\n",
       "                ('clf',\n",
       "                 LinearSVC(C=5, class_weight=None, dual=True,\n",
       "                           fit_intercept=True, intercept_scaling=1,\n",
       "                           loss='squared_hinge', max_iter=1000,\n",
       "                           multi_class='ovr', penalty='l2', random_state=None,\n",
       "                           tol=0.0001, verbose=0))],\n",
       "         verbose=False)"
      ]
     },
     "execution_count": 59,
     "metadata": {},
     "output_type": "execute_result"
    }
   ],
   "source": [
    "pipe = Pipeline([\n",
    "    ('vect', CountVectorizer(\n",
    "        min_df=1, max_df=0.3,\n",
    "        ngram_range=(1,2),\n",
    "        lowercase=False,\n",
    "        stop_words=stoplist,\n",
    "        tokenizer=tokenizer\n",
    "    )),\n",
    "    ('tfidf', TfidfTransformer(\n",
    "        smooth_idf=False,\n",
    "        sublinear_tf=True)),\n",
    "    ('clf',LinearSVC(C=5))\n",
    "])\n",
    "get_score(pipe)"
   ]
  },
  {
   "cell_type": "code",
   "execution_count": 62,
   "metadata": {
    "scrolled": true
   },
   "outputs": [
    {
     "data": {
      "text/plain": [
       "True"
      ]
     },
     "execution_count": 62,
     "metadata": {},
     "output_type": "execute_result"
    }
   ],
   "source": [
    "spm.SentencePieceTrainer.Train('--input=C:\\Python\\Ground\\data\\hashcode\\hashcode_classification2020_train.csv --model_prefix=word3 --vocab_size=50000 --model_type=word')"
   ]
  },
  {
   "cell_type": "code",
   "execution_count": 63,
   "metadata": {},
   "outputs": [
    {
     "data": {
      "text/plain": [
       "True"
      ]
     },
     "execution_count": 63,
     "metadata": {},
     "output_type": "execute_result"
    }
   ],
   "source": [
    "sp.Load(\"word3.model\")"
   ]
  },
  {
   "cell_type": "code",
   "execution_count": 64,
   "metadata": {
    "scrolled": false
   },
   "outputs": [
    {
     "data": {
      "text/plain": [
       "['▁$$$',\n",
       " '▁순서정리',\n",
       " '▁오류',\n",
       " '▁질문',\n",
       " '▁//',\n",
       " '▁$$$',\n",
       " '▁include',\n",
       " '▁<stdio.h>',\n",
       " '▁include',\n",
       " '▁<stdlib.h>',\n",
       " '▁include',\n",
       " '▁<time.h>',\n",
       " '▁int',\n",
       " '▁main()',\n",
       " '▁{',\n",
       " '▁int',\n",
       " '▁ArrRo']"
      ]
     },
     "execution_count": 64,
     "metadata": {},
     "output_type": "execute_result"
    }
   ],
   "source": [
    "sp.EncodeAsPieces(d1[:100])"
   ]
  },
  {
   "cell_type": "code",
   "execution_count": 65,
   "metadata": {},
   "outputs": [],
   "source": [
    "tokenizer = lambda x:sp.EncodeAsPieces(x)"
   ]
  },
  {
   "cell_type": "code",
   "execution_count": 66,
   "metadata": {
    "scrolled": false
   },
   "outputs": [
    {
     "name": "stdout",
     "output_type": "stream",
     "text": [
      "train score is 1.0000\n",
      "test score is 0.7901\n"
     ]
    }
   ],
   "source": [
    "pipe = Pipeline([\n",
    "    ('vect', CountVectorizer(\n",
    "        min_df=1, max_df=0.3,\n",
    "        ngram_range=(1,2),\n",
    "        lowercase=False,\n",
    "        stop_words=stoplist,\n",
    "        tokenizer=tokenizer\n",
    "    )),\n",
    "    ('tfidf', TfidfTransformer(\n",
    "        smooth_idf=False,\n",
    "        sublinear_tf=True)),\n",
    "    ('clf',LinearSVC(C=5))\n",
    "])\n",
    "get_score(pipe)"
   ]
  },
  {
   "cell_type": "markdown",
   "metadata": {},
   "source": [
    "조금씩 개선되고 있긴 하지만 mecab이나 konlpy의 결과를 단박에 뛰어넘지는 못한다.  \n",
    "일상용어(질문글)과 전공용어(코드)가 섞여 있기 때문에, 코퍼스가 그 안에서 다시 분할되기 때문에 학습의 효과가 더 낮아지지 않을까 싶다. 또한 단어 단위라 한국어의 특성 상 토크나이징을 잘 못한다."
   ]
  },
  {
   "cell_type": "code",
   "execution_count": 67,
   "metadata": {},
   "outputs": [
    {
     "data": {
      "text/plain": [
       "['▁$$$',\n",
       " '▁순서정리',\n",
       " '▁오류',\n",
       " '▁질문',\n",
       " '▁//',\n",
       " '▁$$$',\n",
       " '▁include',\n",
       " '▁<stdio.h>',\n",
       " '▁include',\n",
       " '▁<stdlib.h>',\n",
       " '▁include',\n",
       " '▁<time.h>',\n",
       " '▁int',\n",
       " '▁main()',\n",
       " '▁{',\n",
       " '▁int',\n",
       " '▁ArrRoom[',\n",
       " '▁=',\n",
       " '▁{};srand(time(NULL));for',\n",
       " '▁(int',\n",
       " '▁i',\n",
       " '▁=',\n",
       " '▁i',\n",
       " '▁<',\n",
       " '▁i++)//',\n",
       " '▁ArrRoom',\n",
       " '▁배열에',\n",
       " '▁~',\n",
       " '▁지',\n",
       " '▁난수로▁입력함',\n",
       " '▁{',\n",
       " '▁int',\n",
       " '▁ran',\n",
       " '▁=',\n",
       " '▁(rand()',\n",
       " '▁%',\n",
       " '▁+',\n",
       " '▁ArrRoom[i]',\n",
       " '▁=',\n",
       " '▁ran;▁}for',\n",
       " '▁(int',\n",
       " '▁i',\n",
       " '▁=',\n",
       " '▁sizeof(ArrRoom)/sizeof(int)-▁i++)//',\n",
       " '▁순서',\n",
       " '▁정리',\n",
       " '▁{',\n",
       " '▁int',\n",
       " '▁change',\n",
       " '▁=',\n",
       " '▁//',\n",
       " '▁값',\n",
       " '▁저장',\n",
       " '▁변수',\n",
       " '▁if',\n",
       " '▁(ArrRoom[i]',\n",
       " '▁>',\n",
       " '▁ArrRoom[i+)',\n",
       " '▁{',\n",
       " '▁change',\n",
       " '▁=',\n",
       " '▁ArrRoom[i+;▁ArrRoom[i+',\n",
       " '▁=',\n",
       " '▁ArrRoom[i];',\n",
       " '▁ArrRoom[i]',\n",
       " '▁=',\n",
       " '▁change;',\n",
       " '▁}',\n",
       " '▁}for',\n",
       " '▁(int',\n",
       " '▁i',\n",
       " '▁=',\n",
       " '▁sizeof(ArrRoom)/sizeof(int);',\n",
       " '▁i++)',\n",
       " '▁//',\n",
       " '▁실행결과',\n",
       " '▁출력',\n",
       " '▁{',\n",
       " '▁printf(\"%d',\n",
       " '▁\"',\n",
       " '▁ArrRoom[i]);',\n",
       " '▁}return',\n",
       " '▁}',\n",
       " '▁까지',\n",
       " '▁난수를',\n",
       " '▁받아',\n",
       " '▁순서대로',\n",
       " '▁정렬하려',\n",
       " '▁하는데',\n",
       " '▁실행하면',\n",
       " '▁\"Segmentation',\n",
       " '▁fault',\n",
       " '▁(core',\n",
       " '▁dumped)\"',\n",
       " '▁라는',\n",
       " '▁오류가',\n",
       " '▁뜨는데',\n",
       " '▁왜',\n",
       " '▁이렇게',\n",
       " '▁나오는지',\n",
       " '▁모르겠습니다.배열',\n",
       " '▁이름이랑',\n",
       " '▁배열의',\n",
       " '▁주소가',\n",
       " '▁같은건',\n",
       " '▁왜죠발생하는',\n",
       " '▁문제',\n",
       " '▁및',\n",
       " '▁실행환경',\n",
       " '▁배열',\n",
       " '▁이름이랑',\n",
       " '▁배열',\n",
       " '▁주소가',\n",
       " '▁같길래',\n",
       " '▁포인터가',\n",
       " '▁배열을',\n",
       " '▁가리키게',\n",
       " '▁해놓고',\n",
       " '▁포인터',\n",
       " '▁주소를',\n",
       " '▁출력했더니',\n",
       " '▁다르게',\n",
       " '▁나왔어요.',\n",
       " '▁배열이름',\n",
       " '▁=',\n",
       " '▁배열',\n",
       " '▁주소',\n",
       " '▁이면서▁포인터값',\n",
       " '▁=',\n",
       " '▁포인터',\n",
       " '▁주소',\n",
       " '▁인건▁왜일까요',\n",
       " '▁소스코드',\n",
       " '▁include',\n",
       " '▁<stdio.h>',\n",
       " '▁int',\n",
       " '▁main()',\n",
       " '▁{',\n",
       " '▁char',\n",
       " '▁my_array[',\n",
       " '▁=',\n",
       " '▁\"some',\n",
       " '▁cool',\n",
       " '▁string\";▁printf(\"my_array',\n",
       " '▁=',\n",
       " '▁%p\\\\n\"my_array);▁printf(\"&my_array',\n",
       " '▁=',\n",
       " '▁%p\\\\n\"&my_array);',\n",
       " '▁char',\n",
       " '▁*pointer_to_array',\n",
       " '▁=',\n",
       " '▁my_array;▁printf(\"pointer_to_array',\n",
       " '▁=',\n",
       " '▁%p\\\\n\"pointer_to_array);▁printf(\"&pointer_to_array',\n",
       " '▁=',\n",
       " '▁%p\\\\n\"&pointer_to_array);▁printf(\"Press',\n",
       " '▁ENTER',\n",
       " '▁to',\n",
       " '▁continue\\\\n\");',\n",
       " '▁getchar();',\n",
       " '▁return',\n",
       " '▁}',\n",
       " '▁출력my_array',\n",
       " '▁=',\n",
       " '▁F&my_array',\n",
       " '▁=',\n",
       " '▁Fpointer_to_array',\n",
       " '▁=',\n",
       " '▁F&pointer_to_array',\n",
       " '▁=',\n",
       " '▁EFC$$$를▁배우하는',\n",
       " '▁학생입니다.',\n",
       " '▁현재',\n",
       " '▁제가',\n",
       " '▁풀고',\n",
       " '▁있는',\n",
       " '▁문제입니다.',\n",
       " '▁[.am/[',\n",
       " '▁include',\n",
       " '▁<stdio.h>',\n",
       " '▁int',\n",
       " '▁main(){',\n",
       " '▁int',\n",
       " '▁ijcec[c]numecstd[ec[i]];float▁avgavgover;▁scanf(\"%d\"&c);',\n",
       " '▁//전체',\n",
       " '▁케이스',\n",
       " '▁입력for(i=i<c;i++){',\n",
       " '▁//전체',\n",
       " '▁케이스',\n",
       " '▁수만큼',\n",
       " '▁각각의',\n",
       " '▁케이스',\n",
       " '▁입력',\n",
       " '▁scanf(\"%d\"&ec[i]);▁for(j=j<ec[i];j++){',\n",
       " '▁//각각의',\n",
       " '▁케이스',\n",
       " '▁수만큼',\n",
       " '▁학생점수',\n",
       " '▁입력scanf(\"%d\"&std[j]);',\n",
       " '▁avg+=std[j];',\n",
       " '▁}',\n",
       " '▁avg/=ec[i];',\n",
       " '▁for(j=j<ec[i];j++){',\n",
       " '▁//평균',\n",
       " '▁넘는',\n",
       " '▁애▁if(std[j]>avg){▁avgover+=',\n",
       " '▁}',\n",
       " '▁}',\n",
       " '▁printf(\"%.f\"(avgover/(float)ec[i])*;',\n",
       " '▁}',\n",
       " '▁return',\n",
       " '▁}',\n",
       " '▁이',\n",
       " '▁코드를',\n",
       " '▁컴파일',\n",
       " '▁하면',\n",
       " '▁실행하자마자',\n",
       " '▁종료되는',\n",
       " '▁현상이',\n",
       " '▁있는데',\n",
       " '▁제가',\n",
       " '▁여기서실수한',\n",
       " '▁부분이나',\n",
       " '▁잘못된점',\n",
       " '▁있으면',\n",
       " '▁알려주시면',\n",
       " '▁감사하겠습니다',\n",
       " '▁.am/$$$',\n",
       " '▁배열이름',\n",
       " '▁질문합니다.',\n",
       " '▁안녕하세요.',\n",
       " '▁$$$를',\n",
       " '▁공부하고',\n",
       " '▁있는',\n",
       " '▁학생입니다.',\n",
       " '▁$$$',\n",
       " '▁배열이름에',\n",
       " '▁관해서',\n",
       " '▁궁금증이',\n",
       " '▁생겼는데.',\n",
       " '▁int',\n",
       " '▁arr[',\n",
       " '▁=',\n",
       " '▁{',\n",
       " '▁;',\n",
       " '▁라는',\n",
       " '▁배열을',\n",
       " '▁선언했다고',\n",
       " '▁가정을',\n",
       " '▁하면',\n",
       " '▁arr이라는',\n",
       " '▁변수는',\n",
       " '▁arr[의',\n",
       " '▁주소를',\n",
       " '▁가지게',\n",
       " '▁되는',\n",
       " '▁것은',\n",
       " '▁알았습니다.',\n",
       " '▁그런데',\n",
       " '▁arr이라는',\n",
       " '▁변수는',\n",
       " '▁어디에',\n",
       " '▁저장되어있는',\n",
       " '▁건가요',\n",
       " '▁메모리상에',\n",
       " '▁arr[',\n",
       " '▁변수',\n",
       " '▁앞에',\n",
       " '▁있는건가요',\n",
       " '▁arr은',\n",
       " '▁변수가',\n",
       " '▁아닌건가요',\n",
       " '▁&(arr)을',\n",
       " '▁출력해본결과▁arr[의▁주소값하고',\n",
       " '▁똑같이',\n",
       " '▁나오더군요',\n",
       " '▁결론적으로',\n",
       " '▁arr이라는',\n",
       " '▁변수가',\n",
       " '▁메모리상에',\n",
       " '▁있는',\n",
       " '▁것인지',\n",
       " '▁있으면',\n",
       " '▁어디에',\n",
       " '▁위치한건지',\n",
       " '▁알고',\n",
       " '▁싶습니다.이분검색-low',\n",
       " '▁high',\n",
       " '▁두값을',\n",
       " '▁파라미터만',\n",
       " '▁받아',\n",
       " '▁재귀로',\n",
       " '▁구현',\n",
       " '▁include<stdio.h>',\n",
       " '▁int',\n",
       " '▁location(int',\n",
       " '▁low',\n",
       " '▁int',\n",
       " '▁high);',\n",
       " '▁int',\n",
       " '▁main(void)',\n",
       " '▁{',\n",
       " '▁int',\n",
       " '▁nnumxi',\n",
       " '▁=',\n",
       " '▁//int',\n",
       " '▁arr[;▁//printf(\"순서대로▁입력해주세요\");',\n",
       " '▁//for',\n",
       " '▁(i',\n",
       " '▁=',\n",
       " '▁i',\n",
       " '▁<',\n",
       " '▁i++)',\n",
       " '▁{',\n",
       " '▁//',\n",
       " '▁scanf(\"%d\"arr[i]);',\n",
       " '▁//}',\n",
       " '▁printf(\"검색할',\n",
       " '▁숫자를',\n",
       " '▁입력해주세요\");▁scanf(\"%d\"&x);▁printf(\"%d\\\\n\"▁location());',\n",
       " '▁return',\n",
       " '▁}',\n",
       " '▁int',\n",
       " '▁location(int',\n",
       " '▁low',\n",
       " '▁int',\n",
       " '▁high)',\n",
       " '▁{',\n",
       " '▁int',\n",
       " '▁mid;',\n",
       " '▁if',\n",
       " '▁(low',\n",
       " '▁>',\n",
       " '▁high)',\n",
       " '▁return',\n",
       " '▁else',\n",
       " '▁{',\n",
       " '▁mid',\n",
       " '▁=',\n",
       " '▁(low',\n",
       " '▁+',\n",
       " '▁high)',\n",
       " '▁/',\n",
       " '▁if',\n",
       " '▁(x',\n",
       " '▁==',\n",
       " '▁arr[mid])',\n",
       " '▁return',\n",
       " '▁mid;',\n",
       " '▁else',\n",
       " '▁if',\n",
       " '▁(x',\n",
       " '▁<',\n",
       " '▁arr[mid])',\n",
       " '▁return',\n",
       " '▁location(lowmid',\n",
       " '▁-',\n",
       " '▁;',\n",
       " '▁else',\n",
       " '▁return',\n",
       " '▁location(mid',\n",
       " '▁+',\n",
       " '▁high);',\n",
       " '▁}',\n",
       " '▁}',\n",
       " '▁파라미터로',\n",
       " '▁low',\n",
       " '▁high',\n",
       " '▁두값만을▁인자로받아▁이분탐색을',\n",
       " '▁재귀로',\n",
       " '▁구현하는것인데▁파리미터로x와arr을▁받지않았는데어떻게▁구현해야할까',\n",
       " '▁도움',\n",
       " '▁받고싶습니다.$$$로▁부분집합(멱집합)▁구상하기',\n",
       " '▁중',\n",
       " '▁질문드립니다',\n",
       " '▁$$$로만',\n",
       " '▁부분집합을',\n",
       " '▁구하는',\n",
       " '▁코드를',\n",
       " '▁구현하는',\n",
       " '▁도중',\n",
       " '▁거의',\n",
       " '▁결승지점까지',\n",
       " '▁다',\n",
       " '▁다른것',\n",
       " '▁같은데',\n",
       " '▁배열의',\n",
       " '▁값을',\n",
       " '▁인식하게',\n",
       " '▁해서',\n",
       " '▁나오게하고싶은데',\n",
       " '▁자꾸',\n",
       " '▁같은값이',\n",
       " '▁저렇게',\n",
       " '▁결과값처럼',\n",
       " '▁나오네요',\n",
       " '▁어떻게',\n",
       " '▁해야될지',\n",
       " '▁도저히',\n",
       " '▁감이안와서',\n",
       " '▁질문드립니다',\n",
       " '▁어떻게',\n",
       " '▁해야될까요',\n",
       " '▁문자열',\n",
       " '▁포인터',\n",
       " '▁질문',\n",
       " '▁두',\n",
       " '▁코드의',\n",
       " '▁차이점이',\n",
       " '▁궁금합니다.',\n",
       " '▁include',\n",
       " '▁<stdio.h>',\n",
       " '▁include',\n",
       " '▁<string.h>',\n",
       " '▁include',\n",
       " '▁<stdlib.h>',\n",
       " '▁void',\n",
       " '▁hstrrev(char*',\n",
       " '▁str);',\n",
       " '▁int',\n",
       " '▁main()',\n",
       " '▁{',\n",
       " '▁char',\n",
       " '▁str[',\n",
       " '▁=',\n",
       " '▁\"program을',\n",
       " '▁실행하기',\n",
       " '▁전에',\n",
       " '▁compile를',\n",
       " '▁해야',\n",
       " '▁한다.\";',\n",
       " '▁puts(str);',\n",
       " '▁hstrrev(str);',\n",
       " '▁puts(str);',\n",
       " '▁return',\n",
       " '▁}',\n",
       " '▁void',\n",
       " '▁hstrrev(char*',\n",
       " '▁str)',\n",
       " '▁{',\n",
       " '▁char*',\n",
       " '▁pstr;',\n",
       " '▁char*',\n",
       " '▁s',\n",
       " '▁=',\n",
       " '▁str;',\n",
       " '▁pstr',\n",
       " '▁=',\n",
       " '▁(char*)malloc(strlen(str)',\n",
       " '▁+',\n",
       " '▁;',\n",
       " '▁pstr',\n",
       " '▁=',\n",
       " '▁pstr',\n",
       " '▁+',\n",
       " '▁strlen(str);',\n",
       " '▁*pstr',\n",
       " '▁=',\n",
       " '▁NULL;',\n",
       " '▁pstr--;',\n",
       " '▁while',\n",
       " '▁(*s)',\n",
       " '▁{',\n",
       " '▁if',\n",
       " '▁(*s',\n",
       " '▁&',\n",
       " '▁)',\n",
       " '▁{',\n",
       " '▁*pstr--',\n",
       " '▁=',\n",
       " '▁s[;',\n",
       " '▁*pstr--',\n",
       " '▁=',\n",
       " '▁s[;',\n",
       " '▁s',\n",
       " '▁+=',\n",
       " '▁}',\n",
       " '▁else',\n",
       " '▁{',\n",
       " '▁*pstr--',\n",
       " '▁=',\n",
       " '▁*s++;',\n",
       " '▁}',\n",
       " '▁}',\n",
       " '▁strcpy(strpstr);',\n",
       " '▁free(pstr);',\n",
       " '▁}',\n",
       " '▁include',\n",
       " '▁<stdio.h>',\n",
       " '▁include',\n",
       " '▁<string.h>',\n",
       " '▁include',\n",
       " '▁<stdlib.h>',\n",
       " '▁void',\n",
       " '▁hstrrev(char*',\n",
       " '▁str);',\n",
       " '▁int',\n",
       " '▁main()',\n",
       " '▁{',\n",
       " '▁char',\n",
       " '▁str[',\n",
       " '▁=',\n",
       " '▁\"program을',\n",
       " '▁실행하기',\n",
       " '▁전에',\n",
       " '▁compile를',\n",
       " '▁해야',\n",
       " '▁한다.\";',\n",
       " '▁puts(str);',\n",
       " '▁hstrrev(str);',\n",
       " '▁puts(str);',\n",
       " '▁return',\n",
       " '▁}',\n",
       " '▁void',\n",
       " '▁hstrrev(char*',\n",
       " '▁str)',\n",
       " '▁{',\n",
       " '▁char*',\n",
       " '▁pstr*',\n",
       " '▁p;',\n",
       " '▁char*',\n",
       " '▁s',\n",
       " '▁=',\n",
       " '▁str;',\n",
       " '▁pstr',\n",
       " '▁=',\n",
       " '▁(char*)malloc(strlen(str)',\n",
       " '▁+',\n",
       " '▁;',\n",
       " '▁p',\n",
       " '▁=',\n",
       " '▁pstr',\n",
       " '▁+',\n",
       " '▁strlen(s);',\n",
       " '▁*p--',\n",
       " '▁=',\n",
       " '▁NULL;',\n",
       " '▁while',\n",
       " '▁(*s)',\n",
       " '▁{',\n",
       " '▁if',\n",
       " '▁(*s',\n",
       " '▁&',\n",
       " '▁)',\n",
       " '▁{',\n",
       " '▁*p--',\n",
       " '▁=',\n",
       " '▁s[;',\n",
       " '▁*p--',\n",
       " '▁=',\n",
       " '▁s[;',\n",
       " '▁s',\n",
       " '▁+=',\n",
       " '▁}',\n",
       " '▁else',\n",
       " '▁{',\n",
       " '▁*p--',\n",
       " '▁=',\n",
       " '▁*s++;',\n",
       " '▁}',\n",
       " '▁}strcpy(strpstr);',\n",
       " '▁free(pstr);',\n",
       " '▁}',\n",
       " '▁문자열을',\n",
       " '▁한글영어',\n",
       " '▁구분',\n",
       " '▁없이',\n",
       " '▁거꾸로',\n",
       " '▁출력하는',\n",
       " '▁함수',\n",
       " '▁hstrrev에서',\n",
       " '▁번',\n",
       " '▁코드에서',\n",
       " '▁함수',\n",
       " '▁hstrrev에서pstr을▁str과',\n",
       " '▁크기가',\n",
       " '▁같게',\n",
       " '▁동적',\n",
       " '▁할당을',\n",
       " '▁하게',\n",
       " '▁한',\n",
       " '▁후',\n",
       " '▁pstr=pstr+strlen(str)을',\n",
       " '▁하게',\n",
       " '▁되면',\n",
       " '▁현재',\n",
       " '▁pstr은',\n",
       " '▁메모리상에서',\n",
       " '▁크기가',\n",
       " '▁포인터',\n",
       " '▁변수가',\n",
       " '▁생성',\n",
       " '▁되고(포인터',\n",
       " '▁변수는',\n",
       " '▁항상',\n",
       " '▁크기',\n",
       " '▁기때문에)pstr이',\n",
       " '▁이름없는',\n",
       " '▁메모리(크기가str과▁같은)의▁시작번질를',\n",
       " '▁가리키게',\n",
       " '▁되는데',\n",
       " '▁그럼',\n",
       " '▁pstr=pstr+strlen(str)이라고',\n",
       " '▁하면',\n",
       " '▁pstr은',\n",
       " '▁pstr이',\n",
       " '▁가리키는',\n",
       " '▁이름없는',\n",
       " '▁메모리의',\n",
       " '▁끝을',\n",
       " '▁가리▁키게',\n",
       " '▁되지',\n",
       " '▁안나요(이게▁질문입니다)▁그후엔',\n",
       " '▁그냥',\n",
       " '▁아래',\n",
       " '▁코드대로',\n",
       " '▁실행',\n",
       " '▁되게',\n",
       " '▁되면',\n",
       " '▁문자열이',\n",
       " '▁거꾸로',\n",
       " '▁출력이',\n",
       " '▁될거라고▁예상됬는데',\n",
       " '▁이상한',\n",
       " '▁오류가',\n",
       " '▁뜨더라구요',\n",
       " '▁오류',\n",
       " '▁내용',\n",
       " '▁Debug',\n",
       " '▁Assertion',\n",
       " '▁Failed',\n",
       " '▁Expression:_CrtlsValidHeapPointer(block)',\n",
       " '▁for',\n",
       " '▁information',\n",
       " '▁on',\n",
       " '▁how',\n",
       " '▁your',\n",
       " '▁program',\n",
       " '▁can',\n",
       " '▁cause',\n",
       " '▁an',\n",
       " '▁assertion',\n",
       " '▁failuresee',\n",
       " '▁the',\n",
       " '▁Visual',\n",
       " '▁$$$',\n",
       " '▁documentation',\n",
       " '▁on',\n",
       " '▁asserts.',\n",
       " '▁(Press',\n",
       " '▁Retry',\n",
       " '▁to',\n",
       " '▁debug',\n",
       " '▁the',\n",
       " '▁application)',\n",
       " '▁그럼',\n",
       " '▁이제',\n",
       " '▁번',\n",
       " '▁코드에선',\n",
       " '▁위처럼',\n",
       " '▁pstr을',\n",
       " '▁동적',\n",
       " '▁할당',\n",
       " '▁하고나서',\n",
       " '▁다른',\n",
       " '▁포인터',\n",
       " '▁변수하나를▁만들어서(p)▁p=pstr+strlen(str)▁라고하게',\n",
       " '▁되면',\n",
       " '▁마찬가지로동적',\n",
       " '▁할당한',\n",
       " '▁후',\n",
       " '▁str길이와',\n",
       " '▁같은',\n",
       " '▁이름없는',\n",
       " '▁메모리를',\n",
       " '▁pstr이',\n",
       " '▁가리키게',\n",
       " '▁되는데p=pstr+strlen(str)',\n",
       " '▁이',\n",
       " '▁식에',\n",
       " '▁의해서',\n",
       " '▁포인터',\n",
       " '▁변수',\n",
       " '▁p는',\n",
       " '▁pstr이',\n",
       " '▁가리키는',\n",
       " '▁메모리의',\n",
       " '▁끝을',\n",
       " '▁가리키게',\n",
       " '▁되고',\n",
       " '▁결국',\n",
       " '▁pstr=pstr+strlen(str)과',\n",
       " '▁다를게',\n",
       " '▁없다고',\n",
       " '▁생각',\n",
       " '▁하였습니다.',\n",
       " '▁하지만',\n",
       " '▁번코드는',\n",
       " '▁오류가',\n",
       " '▁생기고',\n",
       " '▁코드는',\n",
       " '▁잘',\n",
       " '▁실행이',\n",
       " '▁되더라구요',\n",
       " '▁두코드에서',\n",
       " '▁차이점은',\n",
       " '▁포인터',\n",
       " '▁변수',\n",
       " '▁p를',\n",
       " '▁만들어서',\n",
       " '▁pstr이',\n",
       " '▁가리키는',\n",
       " '▁메모리의',\n",
       " '▁끝을',\n",
       " '▁읽냐',\n",
       " '▁아니면',\n",
       " '▁바로pstr에',\n",
       " '▁pstr이',\n",
       " '▁가리키는',\n",
       " '▁메모리의',\n",
       " '▁끝을',\n",
       " '▁읽냐',\n",
       " '▁인',\n",
       " '▁것',\n",
       " '▁같은데',\n",
       " '▁즉',\n",
       " '▁p=pstr+strlen(str)▁pstr=pstr+strlen(str)',\n",
       " '▁이',\n",
       " '▁두',\n",
       " '▁식의',\n",
       " '▁차이를',\n",
       " '▁모르겠습니다.',\n",
       " '▁아직',\n",
       " '▁모르는게',\n",
       " '▁너무도',\n",
       " '▁많고',\n",
       " '▁필력도',\n",
       " '▁안좋아서',\n",
       " '▁항상',\n",
       " '▁수준낮은▁질문만',\n",
       " '▁하는',\n",
       " '▁것',\n",
       " '▁같은데',\n",
       " '▁항상',\n",
       " '▁답변',\n",
       " '▁해주시는',\n",
       " '▁분들께',\n",
       " '▁진심으로',\n",
       " '▁감사드립니다',\n",
       " '▁위치를',\n",
       " '▁기록하는동안',\n",
       " '▁액세스',\n",
       " '▁위반이',\n",
       " '▁발생했습니다',\n",
       " '▁이렇게',\n",
       " '▁코드를',\n",
       " '▁짰는데',\n",
       " '▁자꾸\"C▁B위치를',\n",
       " '▁기록하는',\n",
       " '▁동안',\n",
       " '▁액세스',\n",
       " '▁위반이',\n",
       " '▁발생했습니다.\"라고',\n",
       " '▁뜨네요',\n",
       " '▁while',\n",
       " '▁(result',\n",
       " '▁=',\n",
       " '▁-',\n",
       " '▁{',\n",
       " '▁a++;',\n",
       " '▁sprintf(s\"%d\"a);▁strcat(hanus);▁strcat(namehanu);}',\n",
       " '▁참고로',\n",
       " '▁변수들',\n",
       " '▁선언은',\n",
       " '▁이렇게',\n",
       " '▁했고',\n",
       " '▁result',\n",
       " '▁변수',\n",
       " '▁관련',\n",
       " '▁코드는',\n",
       " '▁그',\n",
       " '▁밑에',\n",
       " '▁더',\n",
       " '▁있습니다',\n",
       " '▁int',\n",
       " '▁a',\n",
       " '▁=',\n",
       " '▁//숫자올리기에',\n",
       " '▁쓸',\n",
       " '▁것',\n",
       " '▁char',\n",
       " '▁s[;//a를',\n",
       " '▁문자열로',\n",
       " '▁변환할',\n",
       " '▁변수',\n",
       " '▁char',\n",
       " '▁name[',\n",
       " '▁=',\n",
       " '▁\"kimhanu\";',\n",
       " '▁char',\n",
       " '▁hanu[',\n",
       " '▁=',\n",
       " '▁\".hanu\";',\n",
       " '▁stack',\n",
       " '▁영역과',\n",
       " '▁heap영역',\n",
       " '▁질문입니다.heap영역과▁stack영역에',\n",
       " '▁대해서',\n",
       " '▁궁금한점이',\n",
       " '▁있습니다.',\n",
       " '▁int',\n",
       " '▁main(void)',\n",
       " '▁{',\n",
       " '▁int',\n",
       " '▁*p=(int*)malloc(sizeof(char)',\n",
       " '▁*',\n",
       " '▁;//▁이트',\n",
       " '▁할당됨.',\n",
       " '▁printf(\"%d\\\\n\"▁&p;//p소를',\n",
       " '▁라고',\n",
       " '▁가정합니다.',\n",
       " '▁int',\n",
       " '▁*p=▁p+//▁이트',\n",
       " '▁할당됨.',\n",
       " '▁printf(\"%d\\\\n\"▁&p;//',\n",
       " '▁p',\n",
       " '▁주소가',\n",
       " '▁지가',\n",
       " '▁나옵니다.',\n",
       " '▁return',\n",
       " '▁}',\n",
       " '▁pmalloc에',\n",
       " '▁의해',\n",
       " '▁할당되어서',\n",
       " '▁heap영역에',\n",
       " '▁할당되고',\n",
       " '▁p',\n",
       " '▁stack에▁할당이',\n",
       " '▁된다고',\n",
       " '▁배운것같습니다.',\n",
       " '▁그렇다면',\n",
       " '▁&p▁&p',\n",
       " '▁즉',\n",
       " '▁각각의',\n",
       " '▁주소가',\n",
       " '▁인접한',\n",
       " '▁영역이',\n",
       " '▁아니여야',\n",
       " '▁할텐데',\n",
       " '▁visual',\n",
       " '▁studio에서',\n",
       " '▁디버깅해보니',\n",
       " '▁주소가',\n",
       " '▁인접한',\n",
       " '▁영역으로',\n",
       " '▁나타납니다.',\n",
       " '▁heap',\n",
       " '▁영역과',\n",
       " '▁stack',\n",
       " '▁영역의',\n",
       " '▁구분을visual',\n",
       " '▁studio에서',\n",
       " '▁어떻게',\n",
       " '▁확인하는지',\n",
       " '▁궁금합니다.',\n",
       " '▁관련된',\n",
       " '▁자료가',\n",
       " '▁있을까요',\n",
       " '▁$$$',\n",
       " '▁왕초보',\n",
       " '▁질문드립니다',\n",
       " '▁여기서',\n",
       " '▁로',\n",
       " '▁누르면',\n",
       " '▁컴퓨터가',\n",
       " '▁뭘냇는지▁안나오게는▁어떻게해야하나요',\n",
       " '▁include',\n",
       " '▁<stdio.h>',\n",
       " '▁include',\n",
       " '▁<stdlib.h>',\n",
       " '▁include',\n",
       " '▁<time.h>',\n",
       " '▁int',\n",
       " '▁main(void)',\n",
       " '▁{',\n",
       " '▁int',\n",
       " '▁comp',\n",
       " '▁=',\n",
       " '▁user',\n",
       " '▁=',\n",
       " '▁int',\n",
       " '▁win',\n",
       " '▁=',\n",
       " '▁draw',\n",
       " '▁=',\n",
       " '▁lose',\n",
       " '▁=',\n",
       " '▁while',\n",
       " '▁(',\n",
       " '▁{',\n",
       " '▁printf(\"입력▁(가위위료)\");▁scanf(\"%d\"&user);',\n",
       " '▁if',\n",
       " '▁(user',\n",
       " '▁==',\n",
       " '▁{',\n",
       " '▁//종료조건',\n",
       " '▁printf(\"Game▁Over\\\\n\");',\n",
       " '▁break;',\n",
       " '▁}',\n",
       " '▁else',\n",
       " '▁{',\n",
       " '▁//게임만들때',\n",
       " '▁switch',\n",
       " '▁(user)',\n",
       " '▁{',\n",
       " '▁case',\n",
       " '▁printf(\"당신은',\n",
       " '▁가위를',\n",
       " '▁냈습니다.\\\\n\");',\n",
       " '▁break;',\n",
       " '▁case',\n",
       " '▁printf(\"당신은',\n",
       " '▁바위를',\n",
       " '▁냈습니다.\\\\n\");',\n",
       " '▁break;',\n",
       " '▁case',\n",
       " '▁printf(\"당신은',\n",
       " '▁보를',\n",
       " '▁냈습니다.\\\\n\");',\n",
       " '▁break;',\n",
       " '▁default:',\n",
       " '▁printf(\"잘못입력했습니다.',\n",
       " '▁다시',\n",
       " '▁입력해주세요.',\n",
       " '▁\\\\n\");',\n",
       " '▁break;',\n",
       " '▁}',\n",
       " '▁}',\n",
       " '▁switch',\n",
       " '▁(user)',\n",
       " '▁srand(time(NULL));',\n",
       " '▁comp',\n",
       " '▁=',\n",
       " '▁rand()',\n",
       " '▁%',\n",
       " '▁+',\n",
       " '▁//',\n",
       " '▁if',\n",
       " '▁(comp',\n",
       " '▁==',\n",
       " '▁printf(\"컴퓨터는',\n",
       " '▁가위를',\n",
       " '▁냈습니다',\n",
       " '▁\\\\n\");',\n",
       " '▁else',\n",
       " '▁if',\n",
       " '▁(comp',\n",
       " '▁==',\n",
       " '▁printf(\"컴퓨터는',\n",
       " '▁바위를',\n",
       " '▁냈습니다',\n",
       " '▁\\\\n\");',\n",
       " '▁else',\n",
       " '▁if',\n",
       " '▁(comp',\n",
       " '▁==',\n",
       " '▁printf(\"컴퓨터는',\n",
       " '▁보를',\n",
       " '▁냈습니다',\n",
       " '▁\\\\n\");',\n",
       " '▁if',\n",
       " '▁(user',\n",
       " '▁==',\n",
       " '▁comp)',\n",
       " '▁{',\n",
       " '▁printf(\"비겼습니다.▁\\\\n\");',\n",
       " '▁draw++;',\n",
       " '▁}',\n",
       " '▁if',\n",
       " '▁((user',\n",
       " '▁==',\n",
       " '▁&&',\n",
       " '▁comp',\n",
       " '▁==',\n",
       " '▁||',\n",
       " '▁(user',\n",
       " '▁==',\n",
       " '▁&&',\n",
       " '▁comp',\n",
       " '▁==',\n",
       " '▁||',\n",
       " '▁(user',\n",
       " '▁==',\n",
       " '▁&&',\n",
       " '▁comp',\n",
       " '▁==',\n",
       " '▁)',\n",
       " '▁{',\n",
       " '▁printf(\"당신이▁이겼습니다▁\\\\n\");▁win++;',\n",
       " '▁}',\n",
       " ...]"
      ]
     },
     "execution_count": 67,
     "metadata": {},
     "output_type": "execute_result"
    }
   ],
   "source": [
    "tokenizer(d1)"
   ]
  }
 ],
 "metadata": {
  "kernelspec": {
   "display_name": "Python 3",
   "language": "python",
   "name": "python3"
  },
  "language_info": {
   "codemirror_mode": {
    "name": "ipython",
    "version": 3
   },
   "file_extension": ".py",
   "mimetype": "text/x-python",
   "name": "python",
   "nbconvert_exporter": "python",
   "pygments_lexer": "ipython3",
   "version": "3.7.4"
  }
 },
 "nbformat": 4,
 "nbformat_minor": 2
}
