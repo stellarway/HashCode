{
 "cells": [
  {
   "cell_type": "markdown",
   "metadata": {},
   "source": [
    "# 다른 토크나이저 사용해보기"
   ]
  },
  {
   "cell_type": "markdown",
   "metadata": {},
   "source": [
    "1. 문제 파악\n",
    "2. 데이터 탐색  \n",
    "    - 데이터 시각화\n",
    "3. 데이터 전처리 \n",
    "    - 텍스트 데이터 전처리\n",
    "    - 임베딩\n",
    "4. 학습\n",
    "    - 여러 모델 성능 비교\n",
    "    - 모델 적용\n",
    "        - test data 임베딩\n",
    "        - 결과 예측\n",
    "6. 모델 개선\n",
    "    - 모델 확정\n",
    "    - 파라미터 튜닝 (그리드 서치)\n",
    "    - 결과 예측"
   ]
  },
  {
   "cell_type": "markdown",
   "metadata": {},
   "source": [
    "# 1. 문제 파악"
   ]
  },
  {
   "cell_type": "markdown",
   "metadata": {},
   "source": [
    "* Hashcode 사이트의 질문글\n",
    ":개발자들을 위한 무료 QnA 사이트로 한글인 질문과 전공용어인 영어, 코드의 내용들이 섞여 있는 코퍼스\n",
    "   : 이러한 특성 때문에 타 말뭉치와 다른 점이 있다면,  \n",
    "     \n",
    "    (1) 프로그래밍 전공 용어가 들어간다.   \n",
    "        : 딥러닝을 사용할 경우 wiki 백과에 각 언어의 설명이나 각종 documentation으로 코퍼스를 수집, pre-trained 된 모델을 가져와 임베딩을 fine-tunning 시킬 수 있다. 하지만 해당 문제는 데이터 개수가 적은 편이어서 외부 코퍼스가 문제 코퍼스보다 커질 우려가 있다.  \n",
    "        : 분류를 각 (프로그래밍) 언어 별로 하게 되어 있다.\n",
    "            => 언어에 따라, 타 언어와 유사한 토큰이 등장할 수 있다.\n",
    "            ==> 따라서 tf-idf 방식으로 임베딩을 진행한다.\n",
    "    (2) 사용자가 생성하는 것은 정규화된 언어(뉴스 등)가 아니다.\n",
    "        : 오타나 이모티콘(ㅠㅠ, ㅋㅋ, 등)이 있다.\n",
    "        : 전공용어는 영어로 질문은 한글로 적는 등, 두 개의 언어가 혼합되어 있다.\n",
    "    (3) 답을 알려줄만한 노골적인 키워드는 특수문자로 제거되었다. (ex: 파이썬 질문 있어요 -> $$$ 질문 있어요)"
   ]
  },
  {
   "cell_type": "markdown",
   "metadata": {},
   "source": [
    "필요한 모듈 임포드"
   ]
  },
  {
   "cell_type": "code",
   "execution_count": 2,
   "metadata": {},
   "outputs": [],
   "source": [
    "# 데이터 처리에 필요한 모듈 임포트\n",
    "import MeCab\n",
    "import pandas as pd\n",
    "import numpy as np\n",
    "import re\n",
    "import matplotlib.pyplot as plt\n",
    "import seaborn as sns\n",
    "\n",
    "# 기계학습에 필요한 모듈 임포드\n",
    "from sklearn.feature_extraction.text import CountVectorizer, TfidfTransformer, TfidfVectorizer\n",
    "from sklearn import metrics\n",
    "from sklearn.model_selection import train_test_split, StratifiedKFold, cross_val_score, GridSearchCV\n",
    "\n",
    "# 멀티 라벨 분류 모델 임포트\n",
    "from sklearn.naive_bayes import MultinomialNB\n",
    "from sklearn.linear_model import LogisticRegression\n",
    "from sklearn.ensemble import RandomForestClassifier\n",
    "from sklearn.svm import LinearSVC"
   ]
  },
  {
   "cell_type": "code",
   "execution_count": 61,
   "metadata": {},
   "outputs": [
    {
     "data": {
      "text/plain": [
       "['안녕',\n",
       " '하',\n",
       " '십니까',\n",
       " '.',\n",
       " '..',\n",
       " '혼자',\n",
       " '서',\n",
       " '해결',\n",
       " '해',\n",
       " '보',\n",
       " '려고',\n",
       " '하',\n",
       " '다가',\n",
       " '도저히',\n",
       " '모르',\n",
       " '겠',\n",
       " '어서',\n",
       " '질문',\n",
       " '올립니다',\n",
       " '.',\n",
       " '\\n']"
      ]
     },
     "execution_count": 61,
     "metadata": {},
     "output_type": "execute_result"
    }
   ],
   "source": [
    "m = MeCab.Tagger(\"-O wakati\")\n",
    "text = r\"안녕하십니까... 혼자서 해결해보려고 하다가 도저히 모르겠어서 질문 올립니다.\"\n",
    "aa = m.parse(text)\n",
    "aa.split(' ')"
   ]
  },
  {
   "cell_type": "code",
   "execution_count": 55,
   "metadata": {},
   "outputs": [
    {
     "name": "stderr",
     "output_type": "stream",
     "text": [
      "c:\\python\\venv\\nlp\\lib\\site-packages\\konlpy\\tag\\_okt.py:16: UserWarning: \"Twitter\" has changed to \"Okt\" since KoNLPy v0.4.5.\n",
      "  warn('\"Twitter\" has changed to \"Okt\" since KoNLPy v0.4.5.')\n",
      "c:\\python\\venv\\nlp\\lib\\site-packages\\jpype\\_core.py:210: UserWarning: \n",
      "-------------------------------------------------------------------------------\n",
      "Deprecated: convertStrings was not specified when starting the JVM. The default\n",
      "behavior in JPype will be False starting in JPype 0.8. The recommended setting\n",
      "for new code is convertStrings=False.  The legacy value of True was assumed for\n",
      "this session. If you are a user of an application that reported this warning,\n",
      "please file a ticket with the developer.\n",
      "-------------------------------------------------------------------------------\n",
      "\n",
      "  \"\"\")\n"
     ]
    },
    {
     "data": {
      "text/plain": [
       "['시험', '시험']"
      ]
     },
     "execution_count": 55,
     "metadata": {},
     "output_type": "execute_result"
    }
   ],
   "source": [
    "from konlpy.tag import Twitter \n",
    "twitter = Twitter()\n",
    "twitter.morphs('시험시험')"
   ]
  },
  {
   "cell_type": "markdown",
   "metadata": {},
   "source": [
    "데이터 다운로드"
   ]
  },
  {
   "cell_type": "code",
   "execution_count": null,
   "metadata": {},
   "outputs": [],
   "source": []
  },
  {
   "cell_type": "code",
   "execution_count": 11,
   "metadata": {},
   "outputs": [],
   "source": [
    "path = 'C:\\Python\\Ground\\data\\hashcode\\hashcode_classification2020_{}.csv'\n",
    "load = lambda x: pd.read_csv(path.format(x))"
   ]
  },
  {
   "cell_type": "code",
   "execution_count": 12,
   "metadata": {},
   "outputs": [],
   "source": [
    "sample = load('sample')\n",
    "test = load('test')\n",
    "train = load('train')"
   ]
  },
  {
   "cell_type": "code",
   "execution_count": 13,
   "metadata": {},
   "outputs": [],
   "source": [
    "label_dict = {1:'C',2:'C++',3:'java',4:'javascript', 5:'python'}\n",
    "label_names = list(label_dict.values())"
   ]
  },
  {
   "cell_type": "code",
   "execution_count": 14,
   "metadata": {},
   "outputs": [],
   "source": [
    "def pre(text):\n",
    "    # 공백 제거, ㅠㅠ ㅋㅋ 등의 감정 표현 이모티콘 제거, 숫자 제거, 이미지 제거\n",
    "    # 괄호나 :, ; 등의 문자는 각 언어의 특징점이 될 수 있어 그대로 놔둠\n",
    "    stop1 = re.compile(r'[\\t\\r\\n\\v\\f,]+')\n",
    "    stop2 = re.compile(r'[?!#`ㄱ-ㅎㅏ-ㅣ]+|[0-9]+.?[0-9]*|  |(\\.|\\*|~|;|\\| ){2,}|(_|-|=|/|\\||\\+){4,}')\n",
    "    stop3 = re.compile(r'\\[이미지\\]\\[?|\\[\\:|http[a-zA-Z\\.:/\\-\\=]+[(png)|(jpg)|(jpeg)]')\n",
    "\n",
    "    text = re.sub(stop1, ' ', text)\n",
    "    text = re.sub(stop2,'', text)\n",
    "    text = re.sub(stop3,'', text)\n",
    "    return text\n",
    "\n",
    "# 주어진 코퍼스를 각 라벨 별로 분류하여, 전체를 한 문서로 보고 데이터 탐색\n",
    "def make_doc(label_num):\n",
    "    # 5개 라벨을 기준으로 5개의 문서 만들기\n",
    "    total = train[train.label==label_num].title+' '+train[train.label==label_num].content\n",
    "    text = ''\n",
    "    for i in total:\n",
    "        text +=' '+str(i)\n",
    "    text = pre(text)\n",
    "    return text\n",
    "\n",
    "def top_k(label,k):\n",
    "    doc = make_doc(label)\n",
    "    vect = CountVectorizer().fit([doc])\n",
    "    count = vect.transform([doc]).toarray().sum(axis=0)\n",
    "    idx = np.argsort(-count)\n",
    "    count = count[idx]\n",
    "    feature_name = np.array(vect.get_feature_names())[idx]\n",
    "    print(list(zip(feature_name, count))[:k])"
   ]
  },
  {
   "cell_type": "code",
   "execution_count": 15,
   "metadata": {
    "scrolled": false
   },
   "outputs": [
    {
     "name": "stdout",
     "output_type": "stream",
     "text": [
      "====================================================================================================\n",
      "코퍼스의 C 언어에서 TOP 30개 최빈 토큰:\n",
      "[('int', 866), ('printf', 551), ('if', 356), ('void', 303), ('for', 277), ('char', 259), ('return', 204), ('include', 188), ('null', 159), ('num', 147), ('else', 146), ('str', 141), ('head', 139), ('bit', 136), ('main', 132), ('temp', 128), ('data', 117), ('porta_reg', 110), ('_delay_us', 107), ('while', 107), ('node', 104), ('sizeof', 94), ('stdio', 91), ('arr', 89), ('break', 89), ('struct', 87), ('어떻게', 84), ('scanf', 80), ('us', 72), ('cycle_us', 71)]\n",
      "\n",
      "====================================================================================================\n",
      "코퍼스의 C++ 언어에서 TOP 30개 최빈 토큰:\n",
      "[('int', 722), ('cout', 384), ('endl', 271), ('if', 259), ('std', 250), ('void', 247), ('return', 217), ('string', 184), ('include', 182), ('for', 156), ('const', 156), ('char', 154), ('class', 137), ('this', 136), ('name', 119), ('public', 116), ('main', 108), ('new', 99), ('어떻게', 98), ('else', 93), ('input', 89), ('case', 85), ('using', 83), ('value', 80), ('size', 75), ('printf', 74), ('node', 72), ('end', 72), ('break', 71), ('iostream', 70)]\n",
      "\n",
      "====================================================================================================\n",
      "코퍼스의 java 언어에서 TOP 30개 최빈 토큰:\n",
      "[('new', 1325), ('public', 1230), ('string', 1165), ('int', 1115), ('system', 764), ('if', 719), ('void', 691), ('out', 660), ('java', 578), ('class', 576), ('import', 496), ('println', 490), ('android', 470), ('private', 444), ('return', 429), ('id', 417), ('static', 395), ('for', 374), ('org', 347), ('어떻게', 340), ('this', 339), ('null', 316), ('name', 293), ('at', 292), ('else', 275), ('add', 275), ('main', 275), ('에서', 261), ('data', 252), ('view', 228)]\n",
      "\n",
      "====================================================================================================\n",
      "코퍼스의 javascript 언어에서 TOP 30개 최빈 토큰:\n",
      "[('var', 591), ('function', 461), ('div', 326), ('id', 282), ('js', 282), ('class', 261), ('script', 259), ('text', 244), ('td', 244), ('if', 238), ('type', 232), ('console', 225), ('node', 222), ('log', 218), ('value', 189), ('어떻게', 188), ('option', 181), ('name', 178), ('li', 169), ('src', 169), ('this', 168), ('html', 164), ('input', 164), ('data', 153), ('document', 148), ('for', 140), ('body', 133), ('style', 130), ('에서', 129), ('err', 128)]\n",
      "\n",
      "====================================================================================================\n",
      "코퍼스의 python 언어에서 TOP 30개 최빈 토큰:\n",
      "[('print', 719), ('self', 673), ('in', 552), ('import', 443), ('if', 412), ('def', 388), ('for', 377), ('return', 282), ('어떻게', 261), ('class', 251), ('range', 215), ('from', 213), ('file', 197), ('input', 197), ('data', 177), ('models', 170), ('제가', 159), ('div', 158), ('elif', 153), ('int', 148), ('else', 148), ('에서', 147), ('html', 145), ('true', 141), ('append', 140), ('있는', 137), ('입니다', 136), ('name', 135), ('line', 131), ('random', 130)]\n",
      "\n"
     ]
    }
   ],
   "source": [
    "k=30\n",
    "for label in label_dict:\n",
    "    print('='*100)\n",
    "    print('코퍼스의 {} 언어에서 TOP {}개 최빈 토큰:'.format(label_dict[label], k))\n",
    "    top_k(label, k)\n",
    "    print()"
   ]
  },
  {
   "cell_type": "markdown",
   "metadata": {},
   "source": [
    "위의 결과로 각 문서 간 유사도가 높게 나타날 것이라고 예상할 수 있다."
   ]
  },
  {
   "cell_type": "code",
   "execution_count": 16,
   "metadata": {},
   "outputs": [],
   "source": [
    "doc1, doc2, doc3, doc4, doc5 = make_doc(1), make_doc(2), make_doc(3), make_doc(4), make_doc(5)"
   ]
  },
  {
   "cell_type": "code",
   "execution_count": 17,
   "metadata": {},
   "outputs": [],
   "source": [
    "# 문서 토큰화를 미리 진행해보고, '질문글'의 특성 상 나타날 수 밖에 없는 토큰들을 stop_words로 추가한다.\n",
    "stoplist = ['은','는','이','가','을','를','안','못','의','에서','에는','에서는',\n",
    "            '로','으로','만','그','같이','다','라는','게','라고',\n",
    "            '왜','이런','저런','문제','질문',\n",
    "            '와','과','또는','도',\n",
    "            '죠',\n",
    "            '되다','되어다',\n",
    "            '경우',\n",
    "            '이렇게', '이렇다', '오다', '가다','늘다',\n",
    "            '아래','다음',\n",
    "            '코드','변수','발생','에러','오류','뜨다',\n",
    "            '해보다','해주다',\n",
    "            '이다','있다','않다','없다','아니다','싶다','하다','어떻다','모르다',\n",
    "            '궁금하다','도움','필요하다','부탁드리다','안녕하다','감사하다',\n",
    "            '예','들다'\n",
    "            ]"
   ]
  },
  {
   "cell_type": "code",
   "execution_count": 23,
   "metadata": {},
   "outputs": [
    {
     "data": {
      "text/plain": [
       "(5, 658791)"
      ]
     },
     "execution_count": 23,
     "metadata": {},
     "output_type": "execute_result"
    }
   ],
   "source": [
    "tfidf_corpus = [doc1, doc2, doc3, doc4, doc5]\n",
    "tfidf_vectorizer = TfidfVectorizer(\n",
    "    # 너무 희소한 데이터는 그 질문에서만 쓰이는 데이터나 변수명이 될 수 있어 제거\n",
    "    min_df = 0.05, \n",
    "    # 괄호나 기호 등이 코드에서 자주 쓰이고, 이것이 언어의 특징점이 될 수 있어 n-gram 설정\n",
    "    ngram_range=(1,5),\n",
    "    # 소문자/대문자를 구별하는 언어가 있기 때문에 소문자화는 진행하지 않는다.\n",
    "    lowercase=False,\n",
    "    # '질문글'이라면 흔히 나타날만한 토큰들 (ex. '모르다', '궁금하다')을 stopwords로 추가한다.\n",
    "#     stop_words=stoplist,\n",
    "    # 코퍼스가 많지 않기 때문에 희소벡터의 수를 줄이기 위해 stemming 실행\n",
    "    tokenizer=lambda x:m.parse(x))\n",
    "\n",
    "tfidf = tfidf_vectorizer.fit_transform(tfidf_corpus)\n",
    "tfidf.shape"
   ]
  },
  {
   "cell_type": "markdown",
   "metadata": {},
   "source": [
    "밀집벡터로 임베딩 후 각 문서 간 유사도 확인"
   ]
  },
  {
   "cell_type": "code",
   "execution_count": 24,
   "metadata": {
    "scrolled": true
   },
   "outputs": [
    {
     "data": {
      "image/png": "[encoded data removed]",
      "text/plain": [
       "<Figure size 432x288 with 2 Axes>"
      ]
     },
     "metadata": {
      "needs_background": "light"
     },
     "output_type": "display_data"
    }
   ],
   "source": [
    "sim = tfidf*tfidf.T\n",
    "label_names = list(label_dict.values())\n",
    "sim_df = pd.DataFrame(sim.todense(), columns = label_names, index = label_names)\n",
    "sns.heatmap(sim_df, annot = True, cmap='Blues')\n",
    "plt.show()"
   ]
  },
  {
   "cell_type": "markdown",
   "metadata": {},
   "source": [
    "### 3-(2) 임베딩"
   ]
  },
  {
   "cell_type": "code",
   "execution_count": 25,
   "metadata": {},
   "outputs": [],
   "source": [
    "title = pd.Series(map(lambda x: pre(str(x)), train.title))\n",
    "content = pd.Series(map(lambda x: pre(str(x)), train.content))\n",
    "data = title+content"
   ]
  },
  {
   "cell_type": "code",
   "execution_count": 27,
   "metadata": {},
   "outputs": [
    {
     "name": "stderr",
     "output_type": "stream",
     "text": [
      "c:\\python\\venv\\nlp\\lib\\site-packages\\sklearn\\feature_extraction\\text.py:385: UserWarning: Your stop_words may be inconsistent with your preprocessing. Tokenizing the stop words generated tokens ['\\n', ' ', '감', '같', '경', '고', '궁', '금', '녕', '늘', '니', '되', '드', '들', '떻', '또', '뜨', '라', '래', '러', '런', '렇', '류', '르', '리', '모', '문', '발', '변', '보', '부', '사', '생', '서', '수', '싶', '아', '않', '어', '없', '에', '오', '요', '우', '움', '으', '음', '있', '저', '제', '주', '질', '코', '탁', '필', '하', '해'] not in stop_words.\n",
      "  'stop_words.' % sorted(inconsistent))\n"
     ]
    },
    {
     "data": {
      "text/plain": [
       "(2592, 148885)"
      ]
     },
     "execution_count": 27,
     "metadata": {},
     "output_type": "execute_result"
    }
   ],
   "source": [
    "# 각 문서 간 (언어 간) 유사도가 상당히 높은 편이다. 따라서 tfidf로 임베딩 할 때 max_df 인자를 추가시킨다.\n",
    "fixed_vectorizer = TfidfVectorizer(\n",
    "    sublinear_tf=True,\n",
    "    min_df=3,\n",
    "    max_df=0.8,\n",
    "    ngram_range=(1,5),\n",
    "    lowercase=False,\n",
    "#     stop_words=stoplist,\n",
    "    tokenizer=lambda x:m.parse(x))\n",
    "\n",
    "fixed_tfidf = fixed_vectorizer.fit_transform(data)\n",
    "fixed_tfidf.shape"
   ]
  },
  {
   "cell_type": "code",
   "execution_count": 28,
   "metadata": {},
   "outputs": [],
   "source": [
    "features = fixed_tfidf.toarray()\n",
    "labels = train.label"
   ]
  },
  {
   "cell_type": "code",
   "execution_count": 29,
   "metadata": {},
   "outputs": [
    {
     "data": {
      "text/plain": [
       "((2592, 148885), (2592,))"
      ]
     },
     "execution_count": 29,
     "metadata": {},
     "output_type": "execute_result"
    }
   ],
   "source": [
    "features.shape, labels.shape"
   ]
  },
  {
   "cell_type": "markdown",
   "metadata": {},
   "source": [
    "# 4. 학습"
   ]
  },
  {
   "cell_type": "markdown",
   "metadata": {},
   "source": [
    "### 4-(1) 여러 모델 성능 비교"
   ]
  },
  {
   "cell_type": "code",
   "execution_count": 31,
   "metadata": {
    "scrolled": true
   },
   "outputs": [],
   "source": [
    "x_train, x_test, y_train, y_test = train_test_split(\n",
    "      data, train.label, stratify=train.label, # data는 텍스트 전처리가 끝나있는 상태\n",
    "      random_state=0, test_size=0.25)"
   ]
  },
  {
   "cell_type": "code",
   "execution_count": 32,
   "metadata": {},
   "outputs": [
    {
     "data": {
      "text/plain": [
       "Pipeline(memory=None,\n",
       "         steps=[('vect',\n",
       "                 CountVectorizer(analyzer='word', binary=False,\n",
       "                                 decode_error='strict',\n",
       "                                 dtype=<class 'numpy.int64'>, encoding='utf-8',\n",
       "                                 input='content', lowercase=True, max_df=1.0,\n",
       "                                 max_features=None, min_df=1,\n",
       "                                 ngram_range=(1, 1), preprocessor=None,\n",
       "                                 stop_words=None, strip_accents=None,\n",
       "                                 token_pattern='(?u)\\\\b\\\\w\\\\w+\\\\b',\n",
       "                                 tokenizer=None, vocabulary=None)),\n",
       "                ('tfidf',\n",
       "                 TfidfTransformer(norm='l2', smooth_idf=True,\n",
       "                                  sublinear_tf=False, use_idf=True)),\n",
       "                ('clf',\n",
       "                 SVC(C=1.0, break_ties=False, cache_size=200, class_weight=None,\n",
       "                     coef0=0.0, decision_function_shape='ovr', degree=3,\n",
       "                     gamma='scale', kernel='rbf', max_iter=-1,\n",
       "                     probability=False, random_state=None, shrinking=True,\n",
       "                     tol=0.001, verbose=False))],\n",
       "         verbose=False)"
      ]
     },
     "execution_count": 32,
     "metadata": {},
     "output_type": "execute_result"
    }
   ],
   "source": [
    "from sklearn.svm import SVC\n",
    "from sklearn.pipeline import Pipeline\n",
    "\n",
    "# 빠른 테스트를 위해 세부적인 파라미터는 일단 무시\n",
    "_pipe = Pipeline([\n",
    "    ('vect', CountVectorizer()),\n",
    "    ('tfidf', TfidfTransformer()),\n",
    "    ('clf',SVC())\n",
    "])\n",
    "_pipe.fit(x_train, y_train)"
   ]
  },
  {
   "cell_type": "code",
   "execution_count": 33,
   "metadata": {},
   "outputs": [],
   "source": [
    "pipe_train_score = _pipe.score(x_train, y_train)\n",
    "pipe_test_score = _pipe.score(x_test, y_test)"
   ]
  },
  {
   "cell_type": "code",
   "execution_count": 34,
   "metadata": {
    "scrolled": true
   },
   "outputs": [
    {
     "data": {
      "text/plain": [
       "(0.9984567901234568, 0.7222222222222222)"
      ]
     },
     "execution_count": 34,
     "metadata": {},
     "output_type": "execute_result"
    }
   ],
   "source": [
    "pipe_train_score, pipe_test_score"
   ]
  },
  {
   "cell_type": "code",
   "execution_count": 35,
   "metadata": {},
   "outputs": [],
   "source": [
    "parameters = {'clf__kernel':['linear','rbf','poly']}"
   ]
  },
  {
   "cell_type": "code",
   "execution_count": 36,
   "metadata": {},
   "outputs": [],
   "source": [
    "grid = GridSearchCV(_pipe, parameters, cv=5, n_jobs=-1)"
   ]
  },
  {
   "cell_type": "code",
   "execution_count": 37,
   "metadata": {},
   "outputs": [
    {
     "data": {
      "text/plain": [
       "GridSearchCV(cv=5, error_score=nan,\n",
       "             estimator=Pipeline(memory=None,\n",
       "                                steps=[('vect',\n",
       "                                        CountVectorizer(analyzer='word',\n",
       "                                                        binary=False,\n",
       "                                                        decode_error='strict',\n",
       "                                                        dtype=<class 'numpy.int64'>,\n",
       "                                                        encoding='utf-8',\n",
       "                                                        input='content',\n",
       "                                                        lowercase=True,\n",
       "                                                        max_df=1.0,\n",
       "                                                        max_features=None,\n",
       "                                                        min_df=1,\n",
       "                                                        ngram_range=(1, 1),\n",
       "                                                        preprocessor=None,\n",
       "                                                        stop_words=None,\n",
       "                                                        strip_accents=None,\n",
       "                                                        token_pattern='(?u)...\n",
       "                                            cache_size=200, class_weight=None,\n",
       "                                            coef0=0.0,\n",
       "                                            decision_function_shape='ovr',\n",
       "                                            degree=3, gamma='scale',\n",
       "                                            kernel='rbf', max_iter=-1,\n",
       "                                            probability=False,\n",
       "                                            random_state=None, shrinking=True,\n",
       "                                            tol=0.001, verbose=False))],\n",
       "                                verbose=False),\n",
       "             iid='deprecated', n_jobs=-1,\n",
       "             param_grid={'clf__kernel': ['linear', 'rbf', 'poly']},\n",
       "             pre_dispatch='2*n_jobs', refit=True, return_train_score=False,\n",
       "             scoring=None, verbose=0)"
      ]
     },
     "execution_count": 37,
     "metadata": {},
     "output_type": "execute_result"
    }
   ],
   "source": [
    "grid.fit(x_train, y_train)"
   ]
  },
  {
   "cell_type": "code",
   "execution_count": 38,
   "metadata": {},
   "outputs": [
    {
     "name": "stdout",
     "output_type": "stream",
     "text": [
      "optimal parameter is {'clf__kernel': 'linear'}\n",
      "best CV score is 0.747\n",
      "best test score is 0.799\n"
     ]
    }
   ],
   "source": [
    "print('optimal parameter is {}'.format(grid.best_params_))\n",
    "print('best CV score is {:.3f}'.format(grid.best_score_))\n",
    "print('best test score is {:.3f}'.format(grid.score(x_test, y_test)))"
   ]
  },
  {
   "cell_type": "code",
   "execution_count": 40,
   "metadata": {},
   "outputs": [],
   "source": [
    "def get_score(pipe):\n",
    "    pipe.fit(x_train, y_train)\n",
    "    pipe_train_score = pipe.score(x_train, y_train)\n",
    "    pipe_test_score = pipe.score(x_test, y_test)\n",
    "    print('train score is {:.4f}'.format(pipe_train_score))\n",
    "    print('test score is {:.4f}'.format(pipe_test_score))"
   ]
  },
  {
   "cell_type": "code",
   "execution_count": 41,
   "metadata": {},
   "outputs": [
    {
     "name": "stdout",
     "output_type": "stream",
     "text": [
      "train score is 0.9943\n",
      "test score is 0.7994\n"
     ]
    }
   ],
   "source": [
    "pipe = Pipeline([\n",
    "    ('vect', CountVectorizer()),\n",
    "    ('tfidf', TfidfTransformer()),\n",
    "    ('clf',SVC(kernel='linear'))\n",
    "])\n",
    "get_score(pipe)"
   ]
  },
  {
   "cell_type": "code",
   "execution_count": 42,
   "metadata": {},
   "outputs": [
    {
     "name": "stdout",
     "output_type": "stream",
     "text": [
      "train score is 1.0000\n",
      "test score is 0.8025\n"
     ]
    }
   ],
   "source": [
    "pipe = Pipeline([\n",
    "    ('vect', CountVectorizer()),\n",
    "    ('tfidf', TfidfTransformer()),\n",
    "    ('clf',LinearSVC())\n",
    "])\n",
    "get_score(pipe)"
   ]
  },
  {
   "cell_type": "markdown",
   "metadata": {},
   "source": [
    "위의 결과를 통해 linearSVC()를 사용해도 무방하다는 사실을 확인할 수 있다.  \n",
    "(엄밀히 따지면 SVC(kernel='linear)와 LinearSVC()는 그 결과값이 약간은 다르지만,  \n",
    "LinearSVC()가 조금 더 빠르고 값이 잘 나온다.)"
   ]
  },
  {
   "cell_type": "markdown",
   "metadata": {},
   "source": [
    "모델을 LinearSVC()로 확정하고, 다음 파라미터 튜닝을 진행한다."
   ]
  },
  {
   "cell_type": "markdown",
   "metadata": {},
   "source": [
    "### 5-(2) 그리드서치"
   ]
  },
  {
   "cell_type": "code",
   "execution_count": 66,
   "metadata": {},
   "outputs": [],
   "source": [
    "T = lambda x:m.parse(x).split(' ')"
   ]
  },
  {
   "cell_type": "code",
   "execution_count": 67,
   "metadata": {},
   "outputs": [
    {
     "name": "stdout",
     "output_type": "stream",
     "text": [
      "train score is 0.9990\n",
      "test score is 0.8086\n"
     ]
    }
   ],
   "source": [
    "pipe = Pipeline([\n",
    "    ('vect', CountVectorizer(tokenizer=T)),\n",
    "    ('tfidf', TfidfTransformer()),\n",
    "    ('clf',LinearSVC())\n",
    "])\n",
    "get_score(pipe)"
   ]
  },
  {
   "cell_type": "markdown",
   "metadata": {},
   "source": [
    "토크나이저를 사용하면 score가 올라가긴 하지만 연산이 너무 오래 걸린다. 토크나이저를 따로 추가하는 것은 다른 파라미터 튜닝 후, 마지막 단계에서 수행한다."
   ]
  },
  {
   "cell_type": "code",
   "execution_count": 68,
   "metadata": {},
   "outputs": [
    {
     "data": {
      "text/plain": [
       "{'analyzer': 'word',\n",
       " 'binary': False,\n",
       " 'decode_error': 'strict',\n",
       " 'dtype': numpy.float64,\n",
       " 'encoding': 'utf-8',\n",
       " 'input': 'content',\n",
       " 'lowercase': True,\n",
       " 'max_df': 1.0,\n",
       " 'max_features': None,\n",
       " 'min_df': 1,\n",
       " 'ngram_range': (1, 1),\n",
       " 'norm': 'l2',\n",
       " 'preprocessor': None,\n",
       " 'smooth_idf': True,\n",
       " 'stop_words': None,\n",
       " 'strip_accents': None,\n",
       " 'sublinear_tf': False,\n",
       " 'token_pattern': '(?u)\\\\b\\\\w\\\\w+\\\\b',\n",
       " 'tokenizer': None,\n",
       " 'use_idf': True,\n",
       " 'vocabulary': None}"
      ]
     },
     "execution_count": 68,
     "metadata": {},
     "output_type": "execute_result"
    }
   ],
   "source": [
    "TfidfVectorizer().get_params()"
   ]
  },
  {
   "cell_type": "code",
   "execution_count": 69,
   "metadata": {},
   "outputs": [
    {
     "data": {
      "text/plain": [
       "{'analyzer': 'word',\n",
       " 'binary': False,\n",
       " 'decode_error': 'strict',\n",
       " 'dtype': numpy.int64,\n",
       " 'encoding': 'utf-8',\n",
       " 'input': 'content',\n",
       " 'lowercase': True,\n",
       " 'max_df': 1.0,\n",
       " 'max_features': None,\n",
       " 'min_df': 1,\n",
       " 'ngram_range': (1, 1),\n",
       " 'preprocessor': None,\n",
       " 'stop_words': None,\n",
       " 'strip_accents': None,\n",
       " 'token_pattern': '(?u)\\\\b\\\\w\\\\w+\\\\b',\n",
       " 'tokenizer': None,\n",
       " 'vocabulary': None}"
      ]
     },
     "execution_count": 69,
     "metadata": {},
     "output_type": "execute_result"
    }
   ],
   "source": [
    "CountVectorizer().get_params()"
   ]
  },
  {
   "cell_type": "code",
   "execution_count": 48,
   "metadata": {},
   "outputs": [
    {
     "data": {
      "text/plain": [
       "{'norm': 'l2', 'smooth_idf': True, 'sublinear_tf': False, 'use_idf': True}"
      ]
     },
     "execution_count": 48,
     "metadata": {},
     "output_type": "execute_result"
    }
   ],
   "source": [
    "TfidfTransformer().get_params()"
   ]
  },
  {
   "cell_type": "code",
   "execution_count": 49,
   "metadata": {},
   "outputs": [
    {
     "data": {
      "text/plain": [
       "{'C': 1.0,\n",
       " 'class_weight': None,\n",
       " 'dual': True,\n",
       " 'fit_intercept': True,\n",
       " 'intercept_scaling': 1,\n",
       " 'loss': 'squared_hinge',\n",
       " 'max_iter': 1000,\n",
       " 'multi_class': 'ovr',\n",
       " 'penalty': 'l2',\n",
       " 'random_state': None,\n",
       " 'tol': 0.0001,\n",
       " 'verbose': 0}"
      ]
     },
     "execution_count": 49,
     "metadata": {},
     "output_type": "execute_result"
    }
   ],
   "source": [
    "LinearSVC().get_params()"
   ]
  },
  {
   "cell_type": "markdown",
   "metadata": {},
   "source": [
    "토크나이저를 적용시키고 그리드서치를 할 경우 에러가 발생... 수동으로 찾아준다."
   ]
  },
  {
   "cell_type": "code",
   "execution_count": 75,
   "metadata": {
    "scrolled": true
   },
   "outputs": [
    {
     "name": "stdout",
     "output_type": "stream",
     "text": [
      "train score is 1.0000\n",
      "test score is 0.8503\n"
     ]
    }
   ],
   "source": [
    "pipe = Pipeline([\n",
    "    ('vect', CountVectorizer(\n",
    "        min_df=1, max_df=0.3,\n",
    "        ngram_range=(1,2),\n",
    "        lowercase=False,\n",
    "#         stop_words=stoplist,\n",
    "        tokenizer=T\n",
    "    )),\n",
    "    ('tfidf', TfidfTransformer(\n",
    "        smooth_idf=False,\n",
    "        sublinear_tf=True)),\n",
    "    ('clf',LinearSVC(C=5, random_state=0))\n",
    "])\n",
    "get_score(pipe)"
   ]
  },
  {
   "cell_type": "code",
   "execution_count": 79,
   "metadata": {
    "scrolled": true
   },
   "outputs": [
    {
     "name": "stdout",
     "output_type": "stream",
     "text": [
      "train score is 1.0000\n",
      "test score is 0.8441\n"
     ]
    }
   ],
   "source": [
    "pipe = Pipeline([\n",
    "    ('vect', CountVectorizer(\n",
    "        min_df=1, max_df=0.3,\n",
    "        ngram_range=(1,3),\n",
    "        lowercase=False,\n",
    "#         stop_words=stoplist,\n",
    "        tokenizer=T\n",
    "    )),\n",
    "    ('tfidf', TfidfTransformer(\n",
    "        smooth_idf=False,\n",
    "        sublinear_tf=True)),\n",
    "    ('clf',LinearSVC(C=5, random_state=0))\n",
    "])\n",
    "get_score(pipe)"
   ]
  },
  {
   "cell_type": "code",
   "execution_count": 80,
   "metadata": {
    "scrolled": true
   },
   "outputs": [
    {
     "name": "stdout",
     "output_type": "stream",
     "text": [
      "train score is 1.0000\n",
      "test score is 0.8349\n"
     ]
    }
   ],
   "source": [
    "pipe = Pipeline([\n",
    "    ('vect', CountVectorizer(\n",
    "        min_df=1, max_df=0.3,\n",
    "        ngram_range=(1,5),\n",
    "        lowercase=False,\n",
    "#         stop_words=stoplist,\n",
    "        tokenizer=T\n",
    "    )),\n",
    "    ('tfidf', TfidfTransformer(\n",
    "        smooth_idf=False,\n",
    "        sublinear_tf=True)),\n",
    "    ('clf',LinearSVC(C=5, random_state=0))\n",
    "])\n",
    "get_score(pipe)"
   ]
  },
  {
   "cell_type": "markdown",
   "metadata": {},
   "source": [
    "### 5-(3) 최종 모델 선택 후 결과 예측"
   ]
  },
  {
   "cell_type": "code",
   "execution_count": 83,
   "metadata": {},
   "outputs": [],
   "source": [
    "# 문서 토큰화를 미리 진행해보고, '질문글'의 특성 상 나타날 수 밖에 없는 토큰들을 stop_words로 추가한다.\n",
    "stoplist = ['은','는','이','가','을','를','안','못','의','에서','에는','에서는',\n",
    "            '로','으로','만','그','같이','다','라는','게','라고',\n",
    "            '왜','이런','저런','문제','질문',\n",
    "            '와','과','또는','도',\n",
    "            '죠',\n",
    "            '되다','되어다',\n",
    "            '경우',\n",
    "            '이렇게', '이렇다', '오다', '가다','늘다',\n",
    "            '아래','다음',\n",
    "            '코드','변수','발생','에러','오류','뜨다',\n",
    "            '해보다','해주다',\n",
    "            '이다','있다','않다','없다','아니다','싶다','하다','어떻다','모르다',\n",
    "            '궁금하다','도움','필요하다','부탁드리다','안녕하다','감사하다',\n",
    "            '예','들다',\n",
    "            '\\n', '감사', '궁금', '늘', '되', '드리', '들', '뜨', '모르', '보다', '부탁', '싶', \n",
    "            '아니', '안녕', '않', '어다', '어떻', '없', '에', '이렇', '있', '주', '필요', '하', '해',\n",
    "            '보', '어'\n",
    "            ]"
   ]
  },
  {
   "cell_type": "code",
   "execution_count": 84,
   "metadata": {},
   "outputs": [
    {
     "name": "stdout",
     "output_type": "stream",
     "text": [
      "train score is 1.0000\n",
      "test score is 0.8503\n"
     ]
    },
    {
     "data": {
      "text/plain": [
       "Pipeline(memory=None,\n",
       "         steps=[('vect',\n",
       "                 CountVectorizer(analyzer='word', binary=False,\n",
       "                                 decode_error='strict',\n",
       "                                 dtype=<class 'numpy.int64'>, encoding='utf-8',\n",
       "                                 input='content', lowercase=False, max_df=0.3,\n",
       "                                 max_features=None, min_df=1,\n",
       "                                 ngram_range=(1, 2), preprocessor=None,\n",
       "                                 stop_words=['은', '는', '이', '가', '을', '를', '안',\n",
       "                                             '못', '의', '에서', '에는', '에서는', '로',\n",
       "                                             '으로', '만', '그', '같이', '다', '라는',\n",
       "                                             '게...\n",
       "                                 tokenizer=<function <lambda> at 0x00000217279CF1F8>,\n",
       "                                 vocabulary=None)),\n",
       "                ('tfidf',\n",
       "                 TfidfTransformer(norm='l2', smooth_idf=False,\n",
       "                                  sublinear_tf=True, use_idf=True)),\n",
       "                ('clf',\n",
       "                 LinearSVC(C=5, class_weight=None, dual=True,\n",
       "                           fit_intercept=True, intercept_scaling=1,\n",
       "                           loss='squared_hinge', max_iter=1000,\n",
       "                           multi_class='ovr', penalty='l2', random_state=None,\n",
       "                           tol=0.0001, verbose=0))],\n",
       "         verbose=False)"
      ]
     },
     "execution_count": 84,
     "metadata": {},
     "output_type": "execute_result"
    }
   ],
   "source": [
    "pipe = Pipeline([\n",
    "    ('vect', CountVectorizer(\n",
    "        min_df=1, max_df=0.3,\n",
    "        ngram_range=(1,2),\n",
    "        lowercase=False,\n",
    "        stop_words=stoplist,\n",
    "        tokenizer=T\n",
    "    )),\n",
    "    ('tfidf', TfidfTransformer(\n",
    "        smooth_idf=False,\n",
    "        sublinear_tf=True)),\n",
    "    ('clf',LinearSVC(C=5))\n",
    "])\n",
    "get_score(pipe)\n",
    "\n",
    "pipe.fit(x_train, y_train)"
   ]
  },
  {
   "cell_type": "code",
   "execution_count": 85,
   "metadata": {},
   "outputs": [],
   "source": [
    "title = pd.Series(map(lambda x: pre(str(x)), test.title))\n",
    "content = pd.Series(map(lambda x: pre(str(x)), test.content))\n",
    "X_test = title+content"
   ]
  },
  {
   "cell_type": "code",
   "execution_count": 86,
   "metadata": {},
   "outputs": [],
   "source": [
    "y_hat=pipe.predict(X_test)"
   ]
  },
  {
   "cell_type": "code",
   "execution_count": 87,
   "metadata": {},
   "outputs": [
    {
     "data": {
      "text/plain": [
       "array([5, 4, 1, 3, 5, 3, 5, 4, 4, 3, 2, 5, 5, 5, 2, 3, 4, 1, 1, 2, 3, 5,\n",
       "       3, 5, 3, 5, 5, 2, 5, 3, 4, 3, 5, 4, 3, 5, 1, 4, 4, 5, 1, 4, 2, 3,\n",
       "       4, 1, 3, 2, 4, 3, 4, 3, 1, 1, 1, 2, 5, 5, 3, 5, 3, 2, 5, 3, 2, 5,\n",
       "       3, 4, 3, 3, 3, 5, 3, 4, 4, 4, 3, 5, 2, 3, 5, 1, 3, 4, 4, 4, 4, 5,\n",
       "       2, 3, 3, 1, 3, 3, 1, 1, 1, 5, 2, 4, 3, 3, 5, 1, 1, 1, 4, 4, 1, 4,\n",
       "       2, 2, 1, 3, 3, 5, 4, 4, 4, 1, 2, 2, 4, 1, 4, 3, 5, 1, 3, 5, 2, 2,\n",
       "       2, 3, 4, 3, 5, 4, 3, 3, 5, 5, 5, 5, 3, 2, 3, 4, 3, 5, 4, 3, 1, 3,\n",
       "       3, 5, 2, 4, 5, 4, 3, 2, 5, 4, 1, 3, 3, 4, 3, 3, 1, 3, 5, 5, 3, 5,\n",
       "       4, 1, 4, 4, 1, 5, 3, 5, 2, 4, 5, 1, 3, 3, 1, 4, 5, 3, 2, 4, 3, 4,\n",
       "       1, 4, 1, 3, 3, 5, 3, 2, 2, 4, 3, 4, 1, 1, 2, 5, 1, 5, 1, 5, 3, 4,\n",
       "       5, 3, 4, 1, 3, 1, 5, 5, 3, 3, 5, 3, 4, 1, 2, 4, 5, 1, 5, 2, 4, 2,\n",
       "       5, 2, 1, 4, 4, 1, 1, 3, 2, 3, 1, 2, 5, 2, 3, 3, 3, 2, 5, 5, 3, 1,\n",
       "       5, 1, 3, 4, 3, 3, 1, 5, 3, 3, 4, 1, 2, 4, 1, 1, 2, 5, 1, 1, 5, 1,\n",
       "       1, 3, 5, 3, 1, 2, 5, 1, 4, 4, 1, 3, 5, 3, 1, 5, 3, 1, 3, 4, 4, 2,\n",
       "       4, 2, 5, 3, 2, 5, 3, 1, 4, 3, 3, 3, 4, 2, 2, 3, 3, 1, 3, 2, 5, 5,\n",
       "       1, 5, 3, 3, 5, 2, 3, 3, 2, 5, 4, 5, 3, 2, 5, 1, 1, 3, 3, 3, 1, 5,\n",
       "       5, 5, 1, 3, 3, 5, 3, 5, 5, 1, 3, 3, 3, 1, 4, 1, 4, 2, 5, 2, 3, 1,\n",
       "       4, 3, 1, 4, 4, 3, 5, 3, 3, 4, 3, 5, 3, 1, 4, 2, 4, 1, 3, 5, 5, 3,\n",
       "       3, 5, 1, 1, 3, 5, 1, 3, 5, 4, 3, 1, 4, 4, 1, 5, 5, 4, 2, 4, 4, 3,\n",
       "       1, 2, 4, 5, 3, 2, 3, 3, 3, 3, 2, 3, 5, 2, 4, 3, 4, 5, 2, 4, 2, 4,\n",
       "       3, 5, 3, 2, 4, 4, 5, 2, 3, 1, 4, 3, 4, 4, 1, 3, 3, 3, 3, 3, 1, 4,\n",
       "       3, 3, 1, 5, 3, 2, 1, 5, 5, 5, 5, 2, 5, 2, 3, 4, 4, 4, 5, 5, 3, 5,\n",
       "       5, 5, 4, 5, 5, 5, 5, 5, 2, 3, 4, 3, 1, 1, 3, 4], dtype=int64)"
      ]
     },
     "execution_count": 87,
     "metadata": {},
     "output_type": "execute_result"
    }
   ],
   "source": [
    "y_hat"
   ]
  },
  {
   "cell_type": "code",
   "execution_count": 68,
   "metadata": {
    "scrolled": false
   },
   "outputs": [
    {
     "data": {
      "text/plain": [
       "array([5, 4, 1, 3, 5, 3, 5, 4, 3, 3, 2, 5, 5, 5, 5, 3, 4, 1, 1, 2, 3, 5,\n",
       "       3, 5, 3, 5, 5, 2, 5, 3, 4, 3, 5, 4, 3, 5, 1, 4, 4, 5, 1, 4, 2, 3,\n",
       "       4, 1, 3, 2, 4, 3, 4, 3, 1, 1, 1, 2, 5, 5, 3, 5, 3, 2, 5, 3, 2, 5,\n",
       "       3, 4, 3, 2, 3, 5, 3, 4, 4, 4, 3, 5, 2, 3, 1, 1, 3, 4, 4, 4, 4, 5,\n",
       "       2, 3, 3, 1, 3, 3, 1, 1, 1, 5, 2, 4, 3, 3, 5, 1, 1, 1, 4, 4, 1, 4,\n",
       "       2, 2, 4, 3, 3, 5, 4, 5, 2, 1, 2, 2, 4, 1, 4, 3, 5, 1, 2, 5, 2, 2,\n",
       "       2, 3, 4, 3, 5, 3, 3, 3, 5, 5, 5, 5, 3, 2, 3, 4, 3, 5, 4, 3, 1, 3,\n",
       "       3, 5, 2, 4, 3, 4, 3, 2, 5, 4, 1, 3, 3, 4, 3, 3, 1, 3, 5, 5, 3, 5,\n",
       "       4, 1, 4, 4, 3, 5, 3, 5, 2, 3, 5, 1, 3, 3, 1, 4, 5, 3, 2, 4, 4, 4,\n",
       "       1, 4, 1, 3, 3, 5, 3, 2, 2, 4, 3, 4, 1, 1, 2, 3, 1, 5, 1, 5, 3, 4,\n",
       "       5, 3, 4, 1, 3, 1, 5, 5, 3, 3, 5, 3, 4, 1, 2, 4, 5, 1, 5, 2, 4, 2,\n",
       "       5, 2, 1, 4, 4, 1, 1, 3, 2, 3, 1, 2, 5, 2, 4, 3, 3, 1, 5, 3, 4, 1,\n",
       "       5, 1, 3, 4, 3, 3, 1, 5, 3, 3, 4, 1, 2, 4, 1, 1, 2, 5, 1, 1, 5, 1,\n",
       "       1, 3, 5, 3, 1, 2, 5, 1, 4, 4, 1, 3, 5, 3, 1, 5, 3, 5, 3, 3, 4, 2,\n",
       "       4, 1, 5, 3, 2, 5, 3, 1, 4, 3, 3, 3, 4, 2, 2, 3, 2, 1, 3, 2, 5, 5,\n",
       "       1, 5, 3, 3, 5, 2, 3, 3, 2, 5, 4, 5, 3, 2, 5, 1, 1, 3, 3, 3, 1, 5,\n",
       "       5, 5, 1, 3, 2, 5, 3, 5, 5, 1, 3, 3, 3, 1, 4, 1, 4, 2, 5, 2, 3, 1,\n",
       "       4, 1, 1, 4, 4, 3, 5, 3, 3, 5, 3, 5, 3, 1, 4, 2, 4, 1, 3, 5, 5, 3,\n",
       "       3, 5, 1, 1, 3, 5, 1, 3, 5, 4, 3, 1, 3, 4, 1, 5, 5, 4, 2, 4, 4, 3,\n",
       "       1, 2, 4, 5, 3, 2, 3, 3, 3, 3, 2, 3, 5, 2, 4, 3, 4, 5, 2, 4, 2, 4,\n",
       "       3, 5, 3, 2, 4, 4, 5, 2, 3, 1, 4, 3, 4, 3, 1, 3, 3, 3, 3, 3, 1, 4,\n",
       "       3, 3, 1, 5, 3, 2, 1, 5, 5, 5, 5, 2, 5, 2, 3, 4, 4, 4, 5, 5, 3, 5,\n",
       "       5, 5, 2, 5, 5, 5, 5, 5, 3, 3, 4, 3, 1, 1, 3, 4], dtype=int64)"
      ]
     },
     "execution_count": 68,
     "metadata": {},
     "output_type": "execute_result"
    }
   ],
   "source": [
    "# y_result"
   ]
  },
  {
   "cell_type": "code",
   "execution_count": 69,
   "metadata": {},
   "outputs": [
    {
     "data": {
      "text/html": [
       "<div>\n",
       "<style scoped>\n",
       "    .dataframe tbody tr th:only-of-type {\n",
       "        vertical-align: middle;\n",
       "    }\n",
       "\n",
       "    .dataframe tbody tr th {\n",
       "        vertical-align: top;\n",
       "    }\n",
       "\n",
       "    .dataframe thead th {\n",
       "        text-align: right;\n",
       "    }\n",
       "</style>\n",
       "<table border=\"1\" class=\"dataframe\">\n",
       "  <thead>\n",
       "    <tr style=\"text-align: right;\">\n",
       "      <th></th>\n",
       "      <th>label</th>\n",
       "    </tr>\n",
       "  </thead>\n",
       "  <tbody>\n",
       "    <tr>\n",
       "      <td>0</td>\n",
       "      <td>5</td>\n",
       "    </tr>\n",
       "    <tr>\n",
       "      <td>1</td>\n",
       "      <td>4</td>\n",
       "    </tr>\n",
       "    <tr>\n",
       "      <td>2</td>\n",
       "      <td>1</td>\n",
       "    </tr>\n",
       "    <tr>\n",
       "      <td>3</td>\n",
       "      <td>3</td>\n",
       "    </tr>\n",
       "    <tr>\n",
       "      <td>4</td>\n",
       "      <td>5</td>\n",
       "    </tr>\n",
       "    <tr>\n",
       "      <td>...</td>\n",
       "      <td>...</td>\n",
       "    </tr>\n",
       "    <tr>\n",
       "      <td>495</td>\n",
       "      <td>3</td>\n",
       "    </tr>\n",
       "    <tr>\n",
       "      <td>496</td>\n",
       "      <td>1</td>\n",
       "    </tr>\n",
       "    <tr>\n",
       "      <td>497</td>\n",
       "      <td>1</td>\n",
       "    </tr>\n",
       "    <tr>\n",
       "      <td>498</td>\n",
       "      <td>3</td>\n",
       "    </tr>\n",
       "    <tr>\n",
       "      <td>499</td>\n",
       "      <td>4</td>\n",
       "    </tr>\n",
       "  </tbody>\n",
       "</table>\n",
       "<p>500 rows × 1 columns</p>\n",
       "</div>"
      ],
      "text/plain": [
       "     label\n",
       "0        5\n",
       "1        4\n",
       "2        1\n",
       "3        3\n",
       "4        5\n",
       "..     ...\n",
       "495      3\n",
       "496      1\n",
       "497      1\n",
       "498      3\n",
       "499      4\n",
       "\n",
       "[500 rows x 1 columns]"
      ]
     },
     "execution_count": 69,
     "metadata": {},
     "output_type": "execute_result"
    }
   ],
   "source": [
    "# pd.DataFrame({'label':y_result}).to_csv('tfidf_pred_2.0.csv',index=False)\n",
    "# pd.read_csv('tfidf_pred_2.0.csv')"
   ]
  },
  {
   "cell_type": "code",
   "execution_count": null,
   "metadata": {},
   "outputs": [],
   "source": []
  }
 ],
 "metadata": {
  "kernelspec": {
   "display_name": "Python 3",
   "language": "python",
   "name": "python3"
  },
  "language_info": {
   "codemirror_mode": {
    "name": "ipython",
    "version": 3
   },
   "file_extension": ".py",
   "mimetype": "text/x-python",
   "name": "python",
   "nbconvert_exporter": "python",
   "pygments_lexer": "ipython3",
   "version": "3.7.4"
  }
 },
 "nbformat": 4,
 "nbformat_minor": 2
}
